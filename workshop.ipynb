{
 "cells": [
  {
   "cell_type": "markdown",
   "metadata": {},
   "source": [
    "# Diabetes project"
   ]
  },
  {
   "cell_type": "code",
   "execution_count": 4,
   "metadata": {},
   "outputs": [],
   "source": [
    "import pandas as pd\n",
    "import sklearn\n",
    "import seaborn as sns\n",
    "import matplotlib.pyplot as plt\n",
    "from pathlib import Path"
   ]
  },
  {
   "cell_type": "markdown",
   "metadata": {},
   "source": [
    "## 1.1 Read SPSS databaseabs"
   ]
  },
  {
   "cell_type": "code",
   "execution_count": 5,
   "metadata": {},
   "outputs": [],
   "source": [
    "df_spss = pd.read_spss(\"DIALECT-1 + 2. definitief ruwe database (08-2019) met exclusie van dialect-1 patienten (n=671)_2.sav\")\n"
   ]
  },
  {
   "cell_type": "code",
   "execution_count": 6,
   "metadata": {},
   "outputs": [
    {
     "data": {
      "text/html": [
       "<div>\n",
       "<style scoped>\n",
       "    .dataframe tbody tr th:only-of-type {\n",
       "        vertical-align: middle;\n",
       "    }\n",
       "\n",
       "    .dataframe tbody tr th {\n",
       "        vertical-align: top;\n",
       "    }\n",
       "\n",
       "    .dataframe thead th {\n",
       "        text-align: right;\n",
       "    }\n",
       "</style>\n",
       "<table border=\"1\" class=\"dataframe\">\n",
       "  <thead>\n",
       "    <tr style=\"text-align: right;\">\n",
       "      <th></th>\n",
       "      <th>Subjectnr</th>\n",
       "      <th>Geslacht</th>\n",
       "      <th>Leeftijd_poli1</th>\n",
       "      <th>Polidatum1</th>\n",
       "      <th>Polijaar_1</th>\n",
       "      <th>Polibezoek</th>\n",
       "      <th>Arts</th>\n",
       "      <th>Freq_arts</th>\n",
       "      <th>Freq_vp</th>\n",
       "      <th>Freq_tot</th>\n",
       "      <th>...</th>\n",
       "      <th>SumOfvite</th>\n",
       "      <th>SumOfrae</th>\n",
       "      <th>SumOffole</th>\n",
       "      <th>SumOfzink</th>\n",
       "      <th>SumOfdpa</th>\n",
       "      <th>SumOfarachidonz</th>\n",
       "      <th>SumOffolaat</th>\n",
       "      <th>SumOfnico</th>\n",
       "      <th>SumOfwater</th>\n",
       "      <th>SumOfnatrium</th>\n",
       "    </tr>\n",
       "  </thead>\n",
       "  <tbody>\n",
       "    <tr>\n",
       "      <th>0</th>\n",
       "      <td>1.0</td>\n",
       "      <td>man</td>\n",
       "      <td>65.0</td>\n",
       "      <td>2009-08-31</td>\n",
       "      <td>2009.0</td>\n",
       "      <td>Eerste bezoek</td>\n",
       "      <td>Schot</td>\n",
       "      <td>4.0</td>\n",
       "      <td>0.0</td>\n",
       "      <td>4.0</td>\n",
       "      <td>...</td>\n",
       "      <td>13.267616</td>\n",
       "      <td>602.510257</td>\n",
       "      <td>173.289978</td>\n",
       "      <td>9.203426</td>\n",
       "      <td>0.000000</td>\n",
       "      <td>0.034463</td>\n",
       "      <td>173.289978</td>\n",
       "      <td>16.178387</td>\n",
       "      <td>1591.211480</td>\n",
       "      <td>2607.443336</td>\n",
       "    </tr>\n",
       "    <tr>\n",
       "      <th>1</th>\n",
       "      <td>2.0</td>\n",
       "      <td>man</td>\n",
       "      <td>61.0</td>\n",
       "      <td>2009-08-31</td>\n",
       "      <td>2009.0</td>\n",
       "      <td>Eerste bezoek</td>\n",
       "      <td>Oving</td>\n",
       "      <td>1.0</td>\n",
       "      <td>4.0</td>\n",
       "      <td>5.0</td>\n",
       "      <td>...</td>\n",
       "      <td>10.662237</td>\n",
       "      <td>645.575531</td>\n",
       "      <td>133.897548</td>\n",
       "      <td>7.454809</td>\n",
       "      <td>0.000010</td>\n",
       "      <td>0.047574</td>\n",
       "      <td>133.897548</td>\n",
       "      <td>16.796363</td>\n",
       "      <td>2216.603139</td>\n",
       "      <td>1891.477166</td>\n",
       "    </tr>\n",
       "    <tr>\n",
       "      <th>2</th>\n",
       "      <td>3.0</td>\n",
       "      <td>man</td>\n",
       "      <td>56.0</td>\n",
       "      <td>2009-08-31</td>\n",
       "      <td>2009.0</td>\n",
       "      <td>Eerste bezoek</td>\n",
       "      <td>Veneman</td>\n",
       "      <td>0.0</td>\n",
       "      <td>0.0</td>\n",
       "      <td>0.0</td>\n",
       "      <td>...</td>\n",
       "      <td>29.996976</td>\n",
       "      <td>1207.776682</td>\n",
       "      <td>209.312323</td>\n",
       "      <td>13.193616</td>\n",
       "      <td>0.000494</td>\n",
       "      <td>0.031634</td>\n",
       "      <td>205.339877</td>\n",
       "      <td>22.143815</td>\n",
       "      <td>2758.233627</td>\n",
       "      <td>3351.952037</td>\n",
       "    </tr>\n",
       "    <tr>\n",
       "      <th>3</th>\n",
       "      <td>4.0</td>\n",
       "      <td>vrouw</td>\n",
       "      <td>51.0</td>\n",
       "      <td>2009-08-31</td>\n",
       "      <td>2009.0</td>\n",
       "      <td>Eerste bezoek</td>\n",
       "      <td>Ouwehand</td>\n",
       "      <td>1.0</td>\n",
       "      <td>4.0</td>\n",
       "      <td>5.0</td>\n",
       "      <td>...</td>\n",
       "      <td>4.281328</td>\n",
       "      <td>218.128055</td>\n",
       "      <td>90.296190</td>\n",
       "      <td>5.820861</td>\n",
       "      <td>0.000057</td>\n",
       "      <td>0.039529</td>\n",
       "      <td>90.296190</td>\n",
       "      <td>5.644264</td>\n",
       "      <td>673.484131</td>\n",
       "      <td>1646.457431</td>\n",
       "    </tr>\n",
       "    <tr>\n",
       "      <th>4</th>\n",
       "      <td>5.0</td>\n",
       "      <td>vrouw</td>\n",
       "      <td>60.0</td>\n",
       "      <td>2009-08-31</td>\n",
       "      <td>2009.0</td>\n",
       "      <td>Eerste bezoek</td>\n",
       "      <td>van Zanten</td>\n",
       "      <td>1.0</td>\n",
       "      <td>4.0</td>\n",
       "      <td>5.0</td>\n",
       "      <td>...</td>\n",
       "      <td>16.653028</td>\n",
       "      <td>1482.346823</td>\n",
       "      <td>207.709797</td>\n",
       "      <td>10.275772</td>\n",
       "      <td>0.000243</td>\n",
       "      <td>0.079542</td>\n",
       "      <td>207.709797</td>\n",
       "      <td>18.294950</td>\n",
       "      <td>2028.428955</td>\n",
       "      <td>2972.889884</td>\n",
       "    </tr>\n",
       "    <tr>\n",
       "      <th>...</th>\n",
       "      <td>...</td>\n",
       "      <td>...</td>\n",
       "      <td>...</td>\n",
       "      <td>...</td>\n",
       "      <td>...</td>\n",
       "      <td>...</td>\n",
       "      <td>...</td>\n",
       "      <td>...</td>\n",
       "      <td>...</td>\n",
       "      <td>...</td>\n",
       "      <td>...</td>\n",
       "      <td>...</td>\n",
       "      <td>...</td>\n",
       "      <td>...</td>\n",
       "      <td>...</td>\n",
       "      <td>...</td>\n",
       "      <td>...</td>\n",
       "      <td>...</td>\n",
       "      <td>...</td>\n",
       "      <td>...</td>\n",
       "      <td>...</td>\n",
       "    </tr>\n",
       "    <tr>\n",
       "      <th>667</th>\n",
       "      <td>732.0</td>\n",
       "      <td>vrouw</td>\n",
       "      <td>74.0</td>\n",
       "      <td>2019-05-22</td>\n",
       "      <td>2019.0</td>\n",
       "      <td>Eerste bezoek</td>\n",
       "      <td>van berkum</td>\n",
       "      <td>3.0</td>\n",
       "      <td>1.0</td>\n",
       "      <td>4.0</td>\n",
       "      <td>...</td>\n",
       "      <td>NaN</td>\n",
       "      <td>NaN</td>\n",
       "      <td>NaN</td>\n",
       "      <td>NaN</td>\n",
       "      <td>NaN</td>\n",
       "      <td>NaN</td>\n",
       "      <td>NaN</td>\n",
       "      <td>NaN</td>\n",
       "      <td>NaN</td>\n",
       "      <td>NaN</td>\n",
       "    </tr>\n",
       "    <tr>\n",
       "      <th>668</th>\n",
       "      <td>733.0</td>\n",
       "      <td>vrouw</td>\n",
       "      <td>28.0</td>\n",
       "      <td>2019-04-26</td>\n",
       "      <td>2019.0</td>\n",
       "      <td>Eerste bezoek</td>\n",
       "      <td>Visser</td>\n",
       "      <td>7.0</td>\n",
       "      <td>24.0</td>\n",
       "      <td>31.0</td>\n",
       "      <td>...</td>\n",
       "      <td>NaN</td>\n",
       "      <td>NaN</td>\n",
       "      <td>NaN</td>\n",
       "      <td>NaN</td>\n",
       "      <td>NaN</td>\n",
       "      <td>NaN</td>\n",
       "      <td>NaN</td>\n",
       "      <td>NaN</td>\n",
       "      <td>NaN</td>\n",
       "      <td>NaN</td>\n",
       "    </tr>\n",
       "    <tr>\n",
       "      <th>669</th>\n",
       "      <td>734.0</td>\n",
       "      <td>man</td>\n",
       "      <td>65.0</td>\n",
       "      <td>2019-05-08</td>\n",
       "      <td>2019.0</td>\n",
       "      <td>Eerste bezoek</td>\n",
       "      <td>de Vries</td>\n",
       "      <td>5.0</td>\n",
       "      <td>8.0</td>\n",
       "      <td>13.0</td>\n",
       "      <td>...</td>\n",
       "      <td>NaN</td>\n",
       "      <td>NaN</td>\n",
       "      <td>NaN</td>\n",
       "      <td>NaN</td>\n",
       "      <td>NaN</td>\n",
       "      <td>NaN</td>\n",
       "      <td>NaN</td>\n",
       "      <td>NaN</td>\n",
       "      <td>NaN</td>\n",
       "      <td>NaN</td>\n",
       "    </tr>\n",
       "    <tr>\n",
       "      <th>670</th>\n",
       "      <td>736.0</td>\n",
       "      <td>man</td>\n",
       "      <td>77.0</td>\n",
       "      <td>2019-05-22</td>\n",
       "      <td>2019.0</td>\n",
       "      <td>Eerste bezoek</td>\n",
       "      <td>Laverman</td>\n",
       "      <td>4.0</td>\n",
       "      <td>2.0</td>\n",
       "      <td>6.0</td>\n",
       "      <td>...</td>\n",
       "      <td>NaN</td>\n",
       "      <td>NaN</td>\n",
       "      <td>NaN</td>\n",
       "      <td>NaN</td>\n",
       "      <td>NaN</td>\n",
       "      <td>NaN</td>\n",
       "      <td>NaN</td>\n",
       "      <td>NaN</td>\n",
       "      <td>NaN</td>\n",
       "      <td>NaN</td>\n",
       "    </tr>\n",
       "    <tr>\n",
       "      <th>671</th>\n",
       "      <td>737.0</td>\n",
       "      <td>man</td>\n",
       "      <td>69.0</td>\n",
       "      <td>2019-05-22</td>\n",
       "      <td>2019.0</td>\n",
       "      <td>Eerste bezoek</td>\n",
       "      <td>Gijzel</td>\n",
       "      <td>6.0</td>\n",
       "      <td>4.0</td>\n",
       "      <td>10.0</td>\n",
       "      <td>...</td>\n",
       "      <td>NaN</td>\n",
       "      <td>NaN</td>\n",
       "      <td>NaN</td>\n",
       "      <td>NaN</td>\n",
       "      <td>NaN</td>\n",
       "      <td>NaN</td>\n",
       "      <td>NaN</td>\n",
       "      <td>NaN</td>\n",
       "      <td>NaN</td>\n",
       "      <td>NaN</td>\n",
       "    </tr>\n",
       "  </tbody>\n",
       "</table>\n",
       "<p>672 rows × 741 columns</p>\n",
       "</div>"
      ],
      "text/plain": [
       "     Subjectnr Geslacht  Leeftijd_poli1  Polidatum1  Polijaar_1  \\\n",
       "0          1.0      man            65.0  2009-08-31      2009.0   \n",
       "1          2.0      man            61.0  2009-08-31      2009.0   \n",
       "2          3.0      man            56.0  2009-08-31      2009.0   \n",
       "3          4.0    vrouw            51.0  2009-08-31      2009.0   \n",
       "4          5.0    vrouw            60.0  2009-08-31      2009.0   \n",
       "..         ...      ...             ...         ...         ...   \n",
       "667      732.0    vrouw            74.0  2019-05-22      2019.0   \n",
       "668      733.0    vrouw            28.0  2019-04-26      2019.0   \n",
       "669      734.0      man            65.0  2019-05-08      2019.0   \n",
       "670      736.0      man            77.0  2019-05-22      2019.0   \n",
       "671      737.0      man            69.0  2019-05-22      2019.0   \n",
       "\n",
       "        Polibezoek        Arts  Freq_arts  Freq_vp  Freq_tot  ...  SumOfvite  \\\n",
       "0    Eerste bezoek       Schot        4.0      0.0       4.0  ...  13.267616   \n",
       "1    Eerste bezoek       Oving        1.0      4.0       5.0  ...  10.662237   \n",
       "2    Eerste bezoek     Veneman        0.0      0.0       0.0  ...  29.996976   \n",
       "3    Eerste bezoek    Ouwehand        1.0      4.0       5.0  ...   4.281328   \n",
       "4    Eerste bezoek  van Zanten        1.0      4.0       5.0  ...  16.653028   \n",
       "..             ...         ...        ...      ...       ...  ...        ...   \n",
       "667  Eerste bezoek  van berkum        3.0      1.0       4.0  ...        NaN   \n",
       "668  Eerste bezoek      Visser        7.0     24.0      31.0  ...        NaN   \n",
       "669  Eerste bezoek    de Vries        5.0      8.0      13.0  ...        NaN   \n",
       "670  Eerste bezoek    Laverman        4.0      2.0       6.0  ...        NaN   \n",
       "671  Eerste bezoek      Gijzel        6.0      4.0      10.0  ...        NaN   \n",
       "\n",
       "        SumOfrae   SumOffole  SumOfzink  SumOfdpa  SumOfarachidonz  \\\n",
       "0     602.510257  173.289978   9.203426  0.000000         0.034463   \n",
       "1     645.575531  133.897548   7.454809  0.000010         0.047574   \n",
       "2    1207.776682  209.312323  13.193616  0.000494         0.031634   \n",
       "3     218.128055   90.296190   5.820861  0.000057         0.039529   \n",
       "4    1482.346823  207.709797  10.275772  0.000243         0.079542   \n",
       "..           ...         ...        ...       ...              ...   \n",
       "667          NaN         NaN        NaN       NaN              NaN   \n",
       "668          NaN         NaN        NaN       NaN              NaN   \n",
       "669          NaN         NaN        NaN       NaN              NaN   \n",
       "670          NaN         NaN        NaN       NaN              NaN   \n",
       "671          NaN         NaN        NaN       NaN              NaN   \n",
       "\n",
       "     SumOffolaat  SumOfnico   SumOfwater SumOfnatrium  \n",
       "0     173.289978  16.178387  1591.211480  2607.443336  \n",
       "1     133.897548  16.796363  2216.603139  1891.477166  \n",
       "2     205.339877  22.143815  2758.233627  3351.952037  \n",
       "3      90.296190   5.644264   673.484131  1646.457431  \n",
       "4     207.709797  18.294950  2028.428955  2972.889884  \n",
       "..           ...        ...          ...          ...  \n",
       "667          NaN        NaN          NaN          NaN  \n",
       "668          NaN        NaN          NaN          NaN  \n",
       "669          NaN        NaN          NaN          NaN  \n",
       "670          NaN        NaN          NaN          NaN  \n",
       "671          NaN        NaN          NaN          NaN  \n",
       "\n",
       "[672 rows x 741 columns]"
      ]
     },
     "execution_count": 6,
     "metadata": {},
     "output_type": "execute_result"
    }
   ],
   "source": [
    "df_spss"
   ]
  },
  {
   "cell_type": "markdown",
   "metadata": {},
   "source": [
    "## 1.2 Read Excel files"
   ]
  },
  {
   "cell_type": "code",
   "execution_count": 7,
   "metadata": {},
   "outputs": [],
   "source": [
    "def read_recursively(path: str) -> list:\n",
    "    \"\"\"Read the data for each one of the folder \"\"\"\n",
    "    paths = list(Path(path).iterdir())\n",
    "    paths.sort()\n",
    "    return {k: df for k, df in [process_folder(p) for p in paths]}\n",
    "\n",
    "\n",
    "def process_folder(dir: Path) -> list:\n",
    "    \"\"\"Read the files from each folder\"\"\"\n",
    "    path_name = dir / f\"{dir.name}-steps.xlsx\"\n",
    "    if path_name.exists():\n",
    "        df = pd.read_excel(path_name)\n",
    "    else:\n",
    "        df = None\n",
    "    return dir.name, df"
   ]
  },
  {
   "cell_type": "code",
   "execution_count": 8,
   "metadata": {},
   "outputs": [
    {
     "data": {
      "text/plain": [
       "dict_keys(['353', '364', '369', '371', '380', '458', '466', '470', '471', '473', '476', '477', '479', '480', '482', '483', '485', '486', '487', '488', '489', '490'])"
      ]
     },
     "execution_count": 8,
     "metadata": {},
     "output_type": "execute_result"
    }
   ],
   "source": [
    "time_series = read_recursively(\"Diabetes\")\n",
    "time_series.keys()"
   ]
  },
  {
   "cell_type": "code",
   "execution_count": 9,
   "metadata": {},
   "outputs": [
    {
     "data": {
      "text/plain": [
       "Index(['time', '2017-01-13', '2017-01-14', '2017-01-15', '2017-01-16',\n",
       "       '2017-01-17', '2017-01-18', '2017-01-19', '2017-01-20'],\n",
       "      dtype='object')"
      ]
     },
     "execution_count": 9,
     "metadata": {},
     "output_type": "execute_result"
    }
   ],
   "source": [
    "df_353 = time_series['353']\n",
    "df_353\n",
    "df_353.columns"
   ]
  },
  {
   "cell_type": "markdown",
   "metadata": {},
   "source": [
    "# 2 Features\n",
    "\n",
    "* [x] Geslacht => new column called \"Gender\"\n",
    "* [x] Leeftijd_poli1\n",
    "* [x] Freq_tot\n",
    "* [x] DMduur = polijaar_1 – Dmaanvang\n",
    "* [x] Pack_years\n",
    "* [x] Alcoholgebruik1EHpermaand\n",
    "* [x] Lengte_poli1\n",
    "* [x] Gewicht_poli1\n",
    "* [x] Buikomvang_1\n",
    "* [x] Heupomvang_1\n",
    "* [x] SBP_poli1\n",
    "* [x] DBP_poli1\n",
    "* [x] Pols\n",
    "* [x] Microvas_total (INPUT OR OUTPUT)\n",
    "* [x] Macrovasculaire_ziekten (INPUT OR OUTPUT)\n",
    "* [x] SerumHbA1c_1 (INPUT OR OUTPUT)\n",
    "* [x] Serum_cholesterol_1\n",
    "* [x] Total_number_drugs\n",
    "* [x] Total_EH_Insulin = dosA10AB + dosA10AC + dosA10AD + dosA10AE. If there is no outcome (NaN), it should be filled in with 0.\n",
    "\n"
   ]
  },
  {
   "cell_type": "markdown",
   "metadata": {},
   "source": [
    "## 3 Clean the dataframes"
   ]
  },
  {
   "cell_type": "code",
   "execution_count": 10,
   "metadata": {},
   "outputs": [],
   "source": [
    "def replace_with_mean_if_nan(df: pd.DataFrame, columns: list, max_nan: int = 50) -> pd:\n",
    "    \"\"\"Iterate over the columns of the dataframe and replace the nan values with the mean\"\"\"\n",
    "    df_ml = pd.DataFrame()\n",
    "    for c in columns:\n",
    "        nas = df[c].isna().any().sum()\n",
    "        if nas > max_nan:\n",
    "            raise RuntimeError(f\"Column {c} has more than {max_nan} NaN values!\")\n",
    "        elif df[c].isna().any():    \n",
    "            df_ml[c] = df[c].fillna(df[c].mean())\n",
    "        else:\n",
    "            df_ml[c] = df[c]\n",
    "    return df_ml"
   ]
  },
  {
   "cell_type": "markdown",
   "metadata": {},
   "source": [
    "### 3.1 copy data to new DataFrame"
   ]
  },
  {
   "cell_type": "code",
   "execution_count": 11,
   "metadata": {},
   "outputs": [],
   "source": [
    "features = [\"Leeftijd_poli1\", \"Freq_tot\", \"Pack_years\", \"Alcoholgebruik1EHpermaand\", \"Lengte_poli1\",\"Gewicht_poli1\", \"Buikomvang_1\", \"Heupomvang_1\", \"Serum_cholesterol_1\",\n",
    "            \"SerumHbA1c_1\", \"Total_number_drugs\", \"Microvas_total\"]\n"
   ]
  },
  {
   "cell_type": "code",
   "execution_count": 12,
   "metadata": {},
   "outputs": [
    {
     "data": {
      "text/plain": [
       "24"
      ]
     },
     "execution_count": 12,
     "metadata": {},
     "output_type": "execute_result"
    }
   ],
   "source": [
    "\n",
    "properties = df_spss[features]\n",
    "properties[properties.isna().sum(axis=1) > 3].size"
   ]
  },
  {
   "cell_type": "markdown",
   "metadata": {},
   "source": [
    "Copy features to an empty DataFrame"
   ]
  },
  {
   "cell_type": "code",
   "execution_count": 13,
   "metadata": {},
   "outputs": [],
   "source": [
    "df_ml = replace_with_mean_if_nan(df_spss, features)"
   ]
  },
  {
   "cell_type": "markdown",
   "metadata": {},
   "source": [
    "Skip patients with More than 3 Nan in their features"
   ]
  },
  {
   "cell_type": "code",
   "execution_count": 14,
   "metadata": {},
   "outputs": [],
   "source": [
    "df_ml = df_ml[properties.isna().sum(axis=1) <= 3]"
   ]
  },
  {
   "cell_type": "markdown",
   "metadata": {},
   "source": [
    "### 3.2 Clean  columns"
   ]
  },
  {
   "cell_type": "code",
   "execution_count": 15,
   "metadata": {},
   "outputs": [],
   "source": [
    "df_ml[\"Gender\"] = df_spss[\"Geslacht\"].apply(lambda x: 0.0 if x == \"man\" else 1.0)"
   ]
  },
  {
   "cell_type": "code",
   "execution_count": 16,
   "metadata": {},
   "outputs": [],
   "source": [
    " df_ml[\"DMduur\"] = df_spss[\"Polijaar_1\"] - df_spss[\"DMaanvang\"]"
   ]
  },
  {
   "cell_type": "code",
   "execution_count": 17,
   "metadata": {},
   "outputs": [],
   "source": [
    "df_ml[\"Total_EH_Insulin\"] = df_spss[\"dosA10AB\"].fillna(0) + df_spss[\"dosA10AC\"].fillna(0) + df_spss[\"dosA10AD\"].fillna(0) + df_spss[\"dosA10AE\"].fillna(0)"
   ]
  },
  {
   "cell_type": "code",
   "execution_count": 18,
   "metadata": {},
   "outputs": [],
   "source": [
    "df_ml[\"Macrovasculaire_ziekten\"] = df_spss[\"Macrovasculaire_ziekten\"].apply(lambda x: 0.0 if x == \"nee\" else 1.0)"
   ]
  },
  {
   "cell_type": "code",
   "execution_count": 19,
   "metadata": {},
   "outputs": [],
   "source": [
    "df_ml[\"SBP\"] = df_spss[['SBP1', 'SBP2', 'SBP3']].mean(axis=1)\n",
    "df_ml[\"SBP\"] = df_ml[\"SBP\"].fillna(df_ml[\"SBP\"].mean())"
   ]
  },
  {
   "cell_type": "code",
   "execution_count": 20,
   "metadata": {},
   "outputs": [],
   "source": [
    "df_ml[\"DBP\"] = df_spss[['DBP1', 'DBP2', 'DBP3']].mean(axis=1)\n",
    "df_ml[\"DBP\"] = df_ml[\"DBP\"].fillna(df_ml[\"SBP\"].mean())"
   ]
  },
  {
   "cell_type": "markdown",
   "metadata": {},
   "source": [
    "## 4 Visualize the Data"
   ]
  },
  {
   "cell_type": "code",
   "execution_count": 21,
   "metadata": {
    "scrolled": true
   },
   "outputs": [
    {
     "data": {
      "text/plain": [
       "<matplotlib.axes._subplots.AxesSubplot at 0x7f61e164e310>"
      ]
     },
     "execution_count": 21,
     "metadata": {},
     "output_type": "execute_result"
    },
    {
     "data": {
      "image/png": "[encoded data removed]",
      "text/plain": [
       "<Figure size 432x288 with 1 Axes>"
      ]
     },
     "metadata": {
      "needs_background": "light"
     },
     "output_type": "display_data"
    }
   ],
   "source": [
    "sns.distplot(df_ml[\"SerumHbA1c_1\"])"
   ]
  },
  {
   "cell_type": "code",
   "execution_count": 22,
   "metadata": {},
   "outputs": [
    {
     "data": {
      "text/plain": [
       "226"
      ]
     },
     "execution_count": 22,
     "metadata": {},
     "output_type": "execute_result"
    }
   ],
   "source": [
    "df_ml[\"Microvas_total\"][ df_ml[\"Microvas_total\"] == 0.0].size"
   ]
  },
  {
   "cell_type": "code",
   "execution_count": 23,
   "metadata": {},
   "outputs": [
    {
     "data": {
      "text/plain": [
       "429"
      ]
     },
     "execution_count": 23,
     "metadata": {},
     "output_type": "execute_result"
    }
   ],
   "source": [
    "df_ml[\"Macrovasculaire_ziekten\"][df_ml[\"Macrovasculaire_ziekten\"] == 0.0].size"
   ]
  },
  {
   "cell_type": "markdown",
   "metadata": {},
   "source": [
    "## 5 Normalize Data"
   ]
  },
  {
   "cell_type": "markdown",
   "metadata": {},
   "source": [
    "### 5.1 Select the features that  you want to train"
   ]
  },
  {
   "cell_type": "code",
   "execution_count": 24,
   "metadata": {},
   "outputs": [],
   "source": [
    "train_features = [\"Leeftijd_poli1\", \"Freq_tot\", \"Pack_years\", \"Alcoholgebruik1EHpermaand\", \"Lengte_poli1\",\"Gewicht_poli1\", \"Buikomvang_1\", \"Heupomvang_1\", \"Serum_cholesterol_1\",\n",
    "             \"Total_number_drugs\", \"Gender\",\"DMduur\", \"Total_EH_Insulin\", \"SBP\", \"DBP\"]"
   ]
  },
  {
   "cell_type": "code",
   "execution_count": 39,
   "metadata": {},
   "outputs": [],
   "source": [
    "all_data = df_ml[train_features].to_numpy()\n",
    "target = df_ml[\"SerumHbA1c_1\"].to_numpy()"
   ]
  },
  {
   "cell_type": "code",
   "execution_count": 40,
   "metadata": {},
   "outputs": [],
   "source": [
    ">>> from sklearn.preprocessing import Normalizer\n",
    "transformer_features = Normalizer()\n",
    "normalized_features = transformer_features.transform(all_data)\n",
    "normalized_target = target / np.sqrt(np.dot(target, target))\n"
   ]
  },
  {
   "cell_type": "markdown",
   "metadata": {},
   "source": [
    "### 5.2 Split the data into training and validation set"
   ]
  },
  {
   "cell_type": "code",
   "execution_count": 55,
   "metadata": {},
   "outputs": [],
   "source": [
    "number_of_patients = all_data.shape[0]\n",
    "indices = np.arange(number_of_patients)\n",
    "frac_validation = 0.2\n",
    "size_valid = int(len(indices) * frac_validation) \n",
    "index_valid = np.random.choice(indices, size=size_valid, replace=False)\n",
    "index_train = np.setdiff1d(indices, index_valid, assume_unique=True)"
   ]
  },
  {
   "cell_type": "code",
   "execution_count": 59,
   "metadata": {},
   "outputs": [
    {
     "name": "stdout",
     "output_type": "stream",
     "text": [
      "(670, 15)\n"
     ]
    }
   ],
   "source": [
    "print(normalized_features.shape)\n",
    "train_features = normalized_features[index_train]\n",
    "valid_features = normalized_features[index_valid]\n",
    "train_target =  normalized_target[index_train]\n",
    "valid_target =  normalized_target[index_valid]"
   ]
  },
  {
   "cell_type": "markdown",
   "metadata": {},
   "source": [
    "## 6 Explore some Regression/Classification model"
   ]
  },
  {
   "cell_type": "code",
   "execution_count": 66,
   "metadata": {},
   "outputs": [],
   "source": [
    "def create_scatter_plot(predicted: np.ndarray, expected: np.ndarray, workdir: str = \".\") -> None:\n",
    "    \"\"\"Plot the predicted vs the expected values.\"\"\"\n",
    "    predicted = predicted.flatten()\n",
    "    expected = expected.flatten()\n",
    "    sns.set()\n",
    "\n",
    "    df = pd.DataFrame({'expected': expected, 'predicted': predicted})\n",
    "\n",
    "    sns.regplot(x='expected', y='predicted', data=df)"
   ]
  },
  {
   "cell_type": "markdown",
   "metadata": {},
   "source": [
    "### 6.1 Random Forest Regressor"
   ]
  },
  {
   "cell_type": "code",
   "execution_count": 72,
   "metadata": {},
   "outputs": [
    {
     "data": {
      "image/png": "[encoded data removed]",
      "text/plain": [
       "<Figure size 432x288 with 1 Axes>"
      ]
     },
     "metadata": {},
     "output_type": "display_data"
    }
   ],
   "source": [
    "from sklearn.ensemble import RandomForestRegressor\n",
    "sklearn_model = RandomForestRegressor(n_estimators=100)\n",
    "# Train data\n",
    "sklearn_model.fit(train_features, train_target)\n",
    "predicted = sklearn_model.predict(valid_features)\n",
    "create_scatter_plot(predicted, valid_target)"
   ]
  },
  {
   "cell_type": "markdown",
   "metadata": {},
   "source": [
    "### 6.1 A simple Deep Feedforward Network"
   ]
  },
  {
   "cell_type": "code",
   "execution_count": null,
   "metadata": {},
   "outputs": [],
   "source": []
  }
 ],
 "metadata": {
  "kernelspec": {
   "display_name": "Python 3",
   "language": "python",
   "name": "python3"
  },
  "language_info": {
   "codemirror_mode": {
    "name": "ipython",
    "version": 3
   },
   "file_extension": ".py",
   "mimetype": "text/x-python",
   "name": "python",
   "nbconvert_exporter": "python",
   "pygments_lexer": "ipython3",
   "version": "3.7.6"
  }
 },
 "nbformat": 4,
 "nbformat_minor": 4
}
