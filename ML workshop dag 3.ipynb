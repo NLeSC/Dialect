{
 "cells": [
  {
   "cell_type": "markdown",
   "metadata": {},
   "source": [
    "# Diabetes project"
   ]
  },
  {
   "cell_type": "code",
   "execution_count": 1,
   "metadata": {},
   "outputs": [],
   "source": [
    "import pandas as pd\n",
    "import numpy as np\n",
    "import sklearn\n",
    "import seaborn as sns\n",
    "import matplotlib.pyplot as plt\n",
    "from pathlib import Path"
   ]
  },
  {
   "cell_type": "markdown",
   "metadata": {},
   "source": [
    "## 1.1 Read SPSS databaseabs"
   ]
  },
  {
   "cell_type": "code",
   "execution_count": 2,
   "metadata": {},
   "outputs": [],
   "source": [
    "df_spss = pd.read_spss(\"..\\data\\DIALECT.sav\")\n"
   ]
  },
  {
   "cell_type": "code",
   "execution_count": 3,
   "metadata": {},
   "outputs": [
    {
     "data": {
      "text/html": [
       "<div>\n",
       "<style scoped>\n",
       "    .dataframe tbody tr th:only-of-type {\n",
       "        vertical-align: middle;\n",
       "    }\n",
       "\n",
       "    .dataframe tbody tr th {\n",
       "        vertical-align: top;\n",
       "    }\n",
       "\n",
       "    .dataframe thead th {\n",
       "        text-align: right;\n",
       "    }\n",
       "</style>\n",
       "<table border=\"1\" class=\"dataframe\">\n",
       "  <thead>\n",
       "    <tr style=\"text-align: right;\">\n",
       "      <th></th>\n",
       "      <th>Subjectnr</th>\n",
       "      <th>Geslacht</th>\n",
       "      <th>Leeftijd_poli1</th>\n",
       "      <th>Polidatum1</th>\n",
       "      <th>Polijaar_1</th>\n",
       "      <th>Polibezoek</th>\n",
       "      <th>Arts</th>\n",
       "      <th>Freq_arts</th>\n",
       "      <th>Freq_vp</th>\n",
       "      <th>Freq_tot</th>\n",
       "      <th>...</th>\n",
       "      <th>SumOfvite</th>\n",
       "      <th>SumOfrae</th>\n",
       "      <th>SumOffole</th>\n",
       "      <th>SumOfzink</th>\n",
       "      <th>SumOfdpa</th>\n",
       "      <th>SumOfarachidonz</th>\n",
       "      <th>SumOffolaat</th>\n",
       "      <th>SumOfnico</th>\n",
       "      <th>SumOfwater</th>\n",
       "      <th>SumOfnatrium</th>\n",
       "    </tr>\n",
       "  </thead>\n",
       "  <tbody>\n",
       "    <tr>\n",
       "      <td>0</td>\n",
       "      <td>NaN</td>\n",
       "      <td>NaN</td>\n",
       "      <td>NaN</td>\n",
       "      <td>NaN</td>\n",
       "      <td>NaN</td>\n",
       "      <td>NaN</td>\n",
       "      <td>NaN</td>\n",
       "      <td>NaN</td>\n",
       "      <td>NaN</td>\n",
       "      <td>NaN</td>\n",
       "      <td>...</td>\n",
       "      <td>NaN</td>\n",
       "      <td>NaN</td>\n",
       "      <td>NaN</td>\n",
       "      <td>NaN</td>\n",
       "      <td>NaN</td>\n",
       "      <td>NaN</td>\n",
       "      <td>NaN</td>\n",
       "      <td>NaN</td>\n",
       "      <td>NaN</td>\n",
       "      <td>NaN</td>\n",
       "    </tr>\n",
       "    <tr>\n",
       "      <td>1</td>\n",
       "      <td>NaN</td>\n",
       "      <td>NaN</td>\n",
       "      <td>NaN</td>\n",
       "      <td>NaN</td>\n",
       "      <td>NaN</td>\n",
       "      <td>NaN</td>\n",
       "      <td>NaN</td>\n",
       "      <td>NaN</td>\n",
       "      <td>NaN</td>\n",
       "      <td>NaN</td>\n",
       "      <td>...</td>\n",
       "      <td>NaN</td>\n",
       "      <td>NaN</td>\n",
       "      <td>NaN</td>\n",
       "      <td>NaN</td>\n",
       "      <td>NaN</td>\n",
       "      <td>NaN</td>\n",
       "      <td>NaN</td>\n",
       "      <td>NaN</td>\n",
       "      <td>NaN</td>\n",
       "      <td>NaN</td>\n",
       "    </tr>\n",
       "    <tr>\n",
       "      <td>2</td>\n",
       "      <td>1.0</td>\n",
       "      <td>man</td>\n",
       "      <td>65.0</td>\n",
       "      <td>2009-08-31</td>\n",
       "      <td>2009.0</td>\n",
       "      <td>Eerste bezoek</td>\n",
       "      <td>Schot</td>\n",
       "      <td>4.0</td>\n",
       "      <td>0.0</td>\n",
       "      <td>4.0</td>\n",
       "      <td>...</td>\n",
       "      <td>13.267616</td>\n",
       "      <td>602.510257</td>\n",
       "      <td>173.289978</td>\n",
       "      <td>9.203426</td>\n",
       "      <td>0.000000</td>\n",
       "      <td>0.034463</td>\n",
       "      <td>173.289978</td>\n",
       "      <td>16.178387</td>\n",
       "      <td>1591.211480</td>\n",
       "      <td>2607.443336</td>\n",
       "    </tr>\n",
       "    <tr>\n",
       "      <td>3</td>\n",
       "      <td>2.0</td>\n",
       "      <td>man</td>\n",
       "      <td>61.0</td>\n",
       "      <td>2009-08-31</td>\n",
       "      <td>2009.0</td>\n",
       "      <td>Eerste bezoek</td>\n",
       "      <td>Oving</td>\n",
       "      <td>1.0</td>\n",
       "      <td>4.0</td>\n",
       "      <td>5.0</td>\n",
       "      <td>...</td>\n",
       "      <td>10.662237</td>\n",
       "      <td>645.575531</td>\n",
       "      <td>133.897548</td>\n",
       "      <td>7.454809</td>\n",
       "      <td>0.000010</td>\n",
       "      <td>0.047574</td>\n",
       "      <td>133.897548</td>\n",
       "      <td>16.796363</td>\n",
       "      <td>2216.603139</td>\n",
       "      <td>1891.477166</td>\n",
       "    </tr>\n",
       "    <tr>\n",
       "      <td>4</td>\n",
       "      <td>3.0</td>\n",
       "      <td>man</td>\n",
       "      <td>56.0</td>\n",
       "      <td>2009-08-31</td>\n",
       "      <td>2009.0</td>\n",
       "      <td>Eerste bezoek</td>\n",
       "      <td>Veneman</td>\n",
       "      <td>0.0</td>\n",
       "      <td>0.0</td>\n",
       "      <td>0.0</td>\n",
       "      <td>...</td>\n",
       "      <td>29.996976</td>\n",
       "      <td>1207.776682</td>\n",
       "      <td>209.312323</td>\n",
       "      <td>13.193616</td>\n",
       "      <td>0.000494</td>\n",
       "      <td>0.031634</td>\n",
       "      <td>205.339877</td>\n",
       "      <td>22.143815</td>\n",
       "      <td>2758.233627</td>\n",
       "      <td>3351.952037</td>\n",
       "    </tr>\n",
       "    <tr>\n",
       "      <td>...</td>\n",
       "      <td>...</td>\n",
       "      <td>...</td>\n",
       "      <td>...</td>\n",
       "      <td>...</td>\n",
       "      <td>...</td>\n",
       "      <td>...</td>\n",
       "      <td>...</td>\n",
       "      <td>...</td>\n",
       "      <td>...</td>\n",
       "      <td>...</td>\n",
       "      <td>...</td>\n",
       "      <td>...</td>\n",
       "      <td>...</td>\n",
       "      <td>...</td>\n",
       "      <td>...</td>\n",
       "      <td>...</td>\n",
       "      <td>...</td>\n",
       "      <td>...</td>\n",
       "      <td>...</td>\n",
       "      <td>...</td>\n",
       "      <td>...</td>\n",
       "    </tr>\n",
       "    <tr>\n",
       "      <td>669</td>\n",
       "      <td>732.0</td>\n",
       "      <td>vrouw</td>\n",
       "      <td>74.0</td>\n",
       "      <td>2019-05-22</td>\n",
       "      <td>2019.0</td>\n",
       "      <td>Eerste bezoek</td>\n",
       "      <td>van berkum</td>\n",
       "      <td>3.0</td>\n",
       "      <td>1.0</td>\n",
       "      <td>4.0</td>\n",
       "      <td>...</td>\n",
       "      <td>NaN</td>\n",
       "      <td>NaN</td>\n",
       "      <td>NaN</td>\n",
       "      <td>NaN</td>\n",
       "      <td>NaN</td>\n",
       "      <td>NaN</td>\n",
       "      <td>NaN</td>\n",
       "      <td>NaN</td>\n",
       "      <td>NaN</td>\n",
       "      <td>NaN</td>\n",
       "    </tr>\n",
       "    <tr>\n",
       "      <td>670</td>\n",
       "      <td>733.0</td>\n",
       "      <td>vrouw</td>\n",
       "      <td>28.0</td>\n",
       "      <td>2019-04-26</td>\n",
       "      <td>2019.0</td>\n",
       "      <td>Eerste bezoek</td>\n",
       "      <td>Visser</td>\n",
       "      <td>7.0</td>\n",
       "      <td>24.0</td>\n",
       "      <td>31.0</td>\n",
       "      <td>...</td>\n",
       "      <td>NaN</td>\n",
       "      <td>NaN</td>\n",
       "      <td>NaN</td>\n",
       "      <td>NaN</td>\n",
       "      <td>NaN</td>\n",
       "      <td>NaN</td>\n",
       "      <td>NaN</td>\n",
       "      <td>NaN</td>\n",
       "      <td>NaN</td>\n",
       "      <td>NaN</td>\n",
       "    </tr>\n",
       "    <tr>\n",
       "      <td>671</td>\n",
       "      <td>734.0</td>\n",
       "      <td>man</td>\n",
       "      <td>65.0</td>\n",
       "      <td>2019-05-08</td>\n",
       "      <td>2019.0</td>\n",
       "      <td>Eerste bezoek</td>\n",
       "      <td>de Vries</td>\n",
       "      <td>5.0</td>\n",
       "      <td>8.0</td>\n",
       "      <td>13.0</td>\n",
       "      <td>...</td>\n",
       "      <td>NaN</td>\n",
       "      <td>NaN</td>\n",
       "      <td>NaN</td>\n",
       "      <td>NaN</td>\n",
       "      <td>NaN</td>\n",
       "      <td>NaN</td>\n",
       "      <td>NaN</td>\n",
       "      <td>NaN</td>\n",
       "      <td>NaN</td>\n",
       "      <td>NaN</td>\n",
       "    </tr>\n",
       "    <tr>\n",
       "      <td>672</td>\n",
       "      <td>736.0</td>\n",
       "      <td>man</td>\n",
       "      <td>77.0</td>\n",
       "      <td>2019-05-22</td>\n",
       "      <td>2019.0</td>\n",
       "      <td>Eerste bezoek</td>\n",
       "      <td>Laverman</td>\n",
       "      <td>4.0</td>\n",
       "      <td>2.0</td>\n",
       "      <td>6.0</td>\n",
       "      <td>...</td>\n",
       "      <td>NaN</td>\n",
       "      <td>NaN</td>\n",
       "      <td>NaN</td>\n",
       "      <td>NaN</td>\n",
       "      <td>NaN</td>\n",
       "      <td>NaN</td>\n",
       "      <td>NaN</td>\n",
       "      <td>NaN</td>\n",
       "      <td>NaN</td>\n",
       "      <td>NaN</td>\n",
       "    </tr>\n",
       "    <tr>\n",
       "      <td>673</td>\n",
       "      <td>737.0</td>\n",
       "      <td>man</td>\n",
       "      <td>69.0</td>\n",
       "      <td>2019-05-22</td>\n",
       "      <td>2019.0</td>\n",
       "      <td>Eerste bezoek</td>\n",
       "      <td>Gijzel</td>\n",
       "      <td>6.0</td>\n",
       "      <td>4.0</td>\n",
       "      <td>10.0</td>\n",
       "      <td>...</td>\n",
       "      <td>NaN</td>\n",
       "      <td>NaN</td>\n",
       "      <td>NaN</td>\n",
       "      <td>NaN</td>\n",
       "      <td>NaN</td>\n",
       "      <td>NaN</td>\n",
       "      <td>NaN</td>\n",
       "      <td>NaN</td>\n",
       "      <td>NaN</td>\n",
       "      <td>NaN</td>\n",
       "    </tr>\n",
       "  </tbody>\n",
       "</table>\n",
       "<p>674 rows × 741 columns</p>\n",
       "</div>"
      ],
      "text/plain": [
       "     Subjectnr Geslacht  Leeftijd_poli1  Polidatum1  Polijaar_1  \\\n",
       "0          NaN      NaN             NaN         NaN         NaN   \n",
       "1          NaN      NaN             NaN         NaN         NaN   \n",
       "2          1.0      man            65.0  2009-08-31      2009.0   \n",
       "3          2.0      man            61.0  2009-08-31      2009.0   \n",
       "4          3.0      man            56.0  2009-08-31      2009.0   \n",
       "..         ...      ...             ...         ...         ...   \n",
       "669      732.0    vrouw            74.0  2019-05-22      2019.0   \n",
       "670      733.0    vrouw            28.0  2019-04-26      2019.0   \n",
       "671      734.0      man            65.0  2019-05-08      2019.0   \n",
       "672      736.0      man            77.0  2019-05-22      2019.0   \n",
       "673      737.0      man            69.0  2019-05-22      2019.0   \n",
       "\n",
       "        Polibezoek        Arts  Freq_arts  Freq_vp  Freq_tot  ...  SumOfvite  \\\n",
       "0              NaN         NaN        NaN      NaN       NaN  ...        NaN   \n",
       "1              NaN         NaN        NaN      NaN       NaN  ...        NaN   \n",
       "2    Eerste bezoek       Schot        4.0      0.0       4.0  ...  13.267616   \n",
       "3    Eerste bezoek       Oving        1.0      4.0       5.0  ...  10.662237   \n",
       "4    Eerste bezoek     Veneman        0.0      0.0       0.0  ...  29.996976   \n",
       "..             ...         ...        ...      ...       ...  ...        ...   \n",
       "669  Eerste bezoek  van berkum        3.0      1.0       4.0  ...        NaN   \n",
       "670  Eerste bezoek      Visser        7.0     24.0      31.0  ...        NaN   \n",
       "671  Eerste bezoek    de Vries        5.0      8.0      13.0  ...        NaN   \n",
       "672  Eerste bezoek    Laverman        4.0      2.0       6.0  ...        NaN   \n",
       "673  Eerste bezoek      Gijzel        6.0      4.0      10.0  ...        NaN   \n",
       "\n",
       "        SumOfrae   SumOffole  SumOfzink  SumOfdpa  SumOfarachidonz  \\\n",
       "0            NaN         NaN        NaN       NaN              NaN   \n",
       "1            NaN         NaN        NaN       NaN              NaN   \n",
       "2     602.510257  173.289978   9.203426  0.000000         0.034463   \n",
       "3     645.575531  133.897548   7.454809  0.000010         0.047574   \n",
       "4    1207.776682  209.312323  13.193616  0.000494         0.031634   \n",
       "..           ...         ...        ...       ...              ...   \n",
       "669          NaN         NaN        NaN       NaN              NaN   \n",
       "670          NaN         NaN        NaN       NaN              NaN   \n",
       "671          NaN         NaN        NaN       NaN              NaN   \n",
       "672          NaN         NaN        NaN       NaN              NaN   \n",
       "673          NaN         NaN        NaN       NaN              NaN   \n",
       "\n",
       "     SumOffolaat  SumOfnico   SumOfwater SumOfnatrium  \n",
       "0            NaN        NaN          NaN          NaN  \n",
       "1            NaN        NaN          NaN          NaN  \n",
       "2     173.289978  16.178387  1591.211480  2607.443336  \n",
       "3     133.897548  16.796363  2216.603139  1891.477166  \n",
       "4     205.339877  22.143815  2758.233627  3351.952037  \n",
       "..           ...        ...          ...          ...  \n",
       "669          NaN        NaN          NaN          NaN  \n",
       "670          NaN        NaN          NaN          NaN  \n",
       "671          NaN        NaN          NaN          NaN  \n",
       "672          NaN        NaN          NaN          NaN  \n",
       "673          NaN        NaN          NaN          NaN  \n",
       "\n",
       "[674 rows x 741 columns]"
      ]
     },
     "execution_count": 3,
     "metadata": {},
     "output_type": "execute_result"
    }
   ],
   "source": [
    "df_spss"
   ]
  },
  {
   "cell_type": "markdown",
   "metadata": {},
   "source": [
    "## 1.2 Read Excel files"
   ]
  },
  {
   "cell_type": "code",
   "execution_count": 4,
   "metadata": {},
   "outputs": [],
   "source": [
    "def read_recursively(path: str) -> list:\n",
    "    \"\"\"Read the data for each one of the folder \"\"\"\n",
    "    paths = list(Path(path).iterdir())\n",
    "    paths.sort()\n",
    "    return {k: df for k, df in [process_folder(p) for p in paths]}\n",
    "\n",
    "\n",
    "def process_folder(dir: Path) -> list:\n",
    "    \"\"\"Read the files from each folder\"\"\"\n",
    "    path_name = dir / f\"{dir.name}-steps.xlsx\"\n",
    "    if path_name.exists():\n",
    "        df = pd.read_excel(path_name)\n",
    "    else:\n",
    "        df = None\n",
    "    return dir.name, df"
   ]
  },
  {
   "cell_type": "code",
   "execution_count": 5,
   "metadata": {},
   "outputs": [
    {
     "data": {
      "text/plain": [
       "dict_keys(['1001', '1002', '353', '364', '369', '371', '380', '458', '466', '470', '471', '473', '476', '477', '479', '480', '482', '483', '485', '486', '487', '488', '489', '490', '491', '497', '504', '505', '506', '507', '508', '509', '510', '511', '512', '513', '514', '515', '516', '517', '519', '520', '521', '522', '523', '524', '525', '527', '529', '530', '531', '532', '536', '537', '538', '540', '541', '542', '544', '545', '546', '547', '548', '549', '550', '551', '552', '553', '554', '555', '556', '557', '558', '559', '560', '561', '562', '563', '564', '565', '566', '567', '568', '569', '570', '571', '572', '573', '574', '575', '576', '577', '578', '579', '580', '581', '582', '583', '586', '587', '588', '589', '590', '591', '592', '593', '594', '595', '596', '597', '598', '599', '600', '601', '602', '603', '604', '605', '606', '607', '608', '609', '610', '611', '612', '613', '614', '615', '616', '617', '618', '619', '620', '621', '622', '623', '624', '625', '626', '627', '628', '629', '630', '631', '632', '633', '634', '635', '636', '637', '638', '639', '640', '641', '642', '643', '644', '645', '646', '647', '648', '649', '650', '651', '652', '653', '654', '656', '657', '658', '659', '660', '661', '662', '663', '664', '665', '666', '667', '668', '669', '670', '671', '672', '673', '674', '675', '676', '677', '678', '679', '680', '681', '682', '683', '684', '685', '686', '687', '688', '689', '690', '691', '692', '693', '694', '695', '696', '697', '698', '699', '700', '701', '702', '703', '704', '705', '706', '707', '708', '709', '710', '711', '712', '713', '714', '715', '716', '717', '718', '719', '720', '721', '722', '723', '724', '725', '726', '727', '729', '730', '731', '732', '733', '734', '736', '737', '739', '740', '825', '911', '918', '920', '924', '925', '926'])"
      ]
     },
     "execution_count": 5,
     "metadata": {},
     "output_type": "execute_result"
    }
   ],
   "source": [
    "time_series = read_recursively(\"..\\data\\Diabetes ZGT data\")\n",
    "time_series.keys()"
   ]
  },
  {
   "cell_type": "code",
   "execution_count": 6,
   "metadata": {},
   "outputs": [
    {
     "data": {
      "text/plain": [
       "Index(['time', '2017-01-13', '2017-01-14', '2017-01-15', '2017-01-16',\n",
       "       '2017-01-17', '2017-01-18', '2017-01-19', '2017-01-20'],\n",
       "      dtype='object')"
      ]
     },
     "execution_count": 6,
     "metadata": {},
     "output_type": "execute_result"
    }
   ],
   "source": [
    "df_353 = time_series['353']\n",
    "df_353\n",
    "df_353.columns"
   ]
  },
  {
   "cell_type": "markdown",
   "metadata": {},
   "source": [
    "# 2 Features\n",
    "\n",
    "* [x] Geslacht => new column called \"Gender\"\n",
    "* [x] Leeftijd_poli1\n",
    "* [x] Freq_tot\n",
    "* [x] DMduur = polijaar_1 – Dmaanvang\n",
    "* [x] Pack_years\n",
    "* [x] Alcoholgebruik1EHpermaand\n",
    "* [x] Lengte_poli1\n",
    "* [x] Gewicht_poli1\n",
    "* [x] Buikomvang_1\n",
    "* [x] Heupomvang_1\n",
    "* [x] SBP_poli1\n",
    "* [x] DBP_poli1\n",
    "* [x] Pols\n",
    "* [x] Microvas_total (INPUT OR OUTPUT)\n",
    "* [x] Macrovasculaire_ziekten (INPUT OR OUTPUT)\n",
    "* [x] SerumHbA1c_1 (INPUT OR OUTPUT)\n",
    "* [x] Serum_cholesterol_1\n",
    "* [x] Total_number_drugs\n",
    "* [x] Total_EH_Insulin = dosA10AB + dosA10AC + dosA10AD + dosA10AE. If there is no outcome (NaN), it should be filled in with 0.\n",
    "\n"
   ]
  },
  {
   "cell_type": "markdown",
   "metadata": {},
   "source": [
    "## 3 Clean the dataframes"
   ]
  },
  {
   "cell_type": "code",
   "execution_count": 7,
   "metadata": {},
   "outputs": [],
   "source": [
    "def replace_with_mean_if_nan(df: pd.DataFrame, columns: list, max_nan: int = 50) -> pd:\n",
    "    \"\"\"Iterate over the columns of the dataframe and replace the nan values with the mean\"\"\"\n",
    "    df_ml = pd.DataFrame()\n",
    "    for c in columns:\n",
    "        nas = df[c].isna().any().sum()\n",
    "        if nas > max_nan:\n",
    "            raise RuntimeError(f\"Column {c} has more than {max_nan} NaN values!\")\n",
    "        elif df[c].isna().any():    \n",
    "            df_ml[c] = df[c].fillna(df[c].mean())\n",
    "        else:\n",
    "            df_ml[c] = df[c]\n",
    "    return df_ml"
   ]
  },
  {
   "cell_type": "markdown",
   "metadata": {},
   "source": [
    "### 3.1 copy data to new DataFrame"
   ]
  },
  {
   "cell_type": "code",
   "execution_count": 8,
   "metadata": {},
   "outputs": [
    {
     "name": "stdout",
     "output_type": "stream",
     "text": [
      "12\n"
     ]
    }
   ],
   "source": [
    "features = [\"Leeftijd_poli1\", \"Freq_tot\", \"Pack_years\", \"Alcoholgebruik1EHpermaand\", \"Lengte_poli1\",\"Gewicht_poli1\", \"Buikomvang_1\", \"Heupomvang_1\", \"Serum_cholesterol_1\",\n",
    "            \"SerumHbA1c_1\", \"Total_number_drugs\", \"Microvas_total\"]\n",
    "print(len(features))"
   ]
  },
  {
   "cell_type": "code",
   "execution_count": 9,
   "metadata": {},
   "outputs": [
    {
     "data": {
      "text/plain": [
       "48"
      ]
     },
     "execution_count": 9,
     "metadata": {},
     "output_type": "execute_result"
    }
   ],
   "source": [
    "\n",
    "properties = df_spss[features]\n",
    "properties[properties.isna().sum(axis=1) > 3].size"
   ]
  },
  {
   "cell_type": "markdown",
   "metadata": {},
   "source": [
    "Copy features to an empty DataFrame"
   ]
  },
  {
   "cell_type": "code",
   "execution_count": 10,
   "metadata": {},
   "outputs": [],
   "source": [
    "df_ml = replace_with_mean_if_nan(df_spss, features)"
   ]
  },
  {
   "cell_type": "markdown",
   "metadata": {},
   "source": [
    "Skip patients with More than 3 Nan in their features"
   ]
  },
  {
   "cell_type": "code",
   "execution_count": 11,
   "metadata": {},
   "outputs": [],
   "source": [
    "df_ml = df_ml[properties.isna().sum(axis=1) <= 3]"
   ]
  },
  {
   "cell_type": "markdown",
   "metadata": {},
   "source": [
    "### 3.2 Clean  columns"
   ]
  },
  {
   "cell_type": "code",
   "execution_count": 12,
   "metadata": {},
   "outputs": [],
   "source": [
    "df_ml[\"Gender\"] = df_spss[\"Geslacht\"].apply(lambda x: 0.0 if x == \"man\" else 1.0)"
   ]
  },
  {
   "cell_type": "code",
   "execution_count": 13,
   "metadata": {},
   "outputs": [],
   "source": [
    " df_ml[\"DMduur\"] = df_spss[\"Polijaar_1\"] - df_spss[\"DMaanvang\"]"
   ]
  },
  {
   "cell_type": "code",
   "execution_count": 14,
   "metadata": {},
   "outputs": [],
   "source": [
    "df_ml[\"Total_EH_Insulin\"] = df_spss[\"dosA10AB\"].fillna(0) + df_spss[\"dosA10AC\"].fillna(0) + df_spss[\"dosA10AD\"].fillna(0) + df_spss[\"dosA10AE\"].fillna(0)"
   ]
  },
  {
   "cell_type": "code",
   "execution_count": 15,
   "metadata": {},
   "outputs": [],
   "source": [
    "df_ml[\"Macrovasculaire_ziekten\"] = df_spss[\"Macrovasculaire_ziekten\"].apply(lambda x: 0.0 if x == \"nee\" else 1.0)"
   ]
  },
  {
   "cell_type": "code",
   "execution_count": 16,
   "metadata": {},
   "outputs": [],
   "source": [
    "df_ml[\"SBP\"] = df_spss[['SBP1', 'SBP2', 'SBP3']].mean(axis=1)\n",
    "df_ml[\"SBP\"] = df_ml[\"SBP\"].fillna(df_ml[\"SBP\"].mean())"
   ]
  },
  {
   "cell_type": "code",
   "execution_count": 17,
   "metadata": {},
   "outputs": [],
   "source": [
    "df_ml[\"DBP\"] = df_spss[['DBP1', 'DBP2', 'DBP3']].mean(axis=1)\n",
    "df_ml[\"DBP\"] = df_ml[\"DBP\"].fillna(df_ml[\"SBP\"].mean())"
   ]
  },
  {
   "cell_type": "markdown",
   "metadata": {},
   "source": [
    "## 4 Visualize the Data"
   ]
  },
  {
   "cell_type": "code",
   "execution_count": 18,
   "metadata": {
    "scrolled": true
   },
   "outputs": [
    {
     "name": "stderr",
     "output_type": "stream",
     "text": [
      "C:\\Users\\dHollosyW\\AppData\\Local\\Continuum\\anaconda3\\lib\\site-packages\\scipy\\stats\\stats.py:1713: FutureWarning: Using a non-tuple sequence for multidimensional indexing is deprecated; use `arr[tuple(seq)]` instead of `arr[seq]`. In the future this will be interpreted as an array index, `arr[np.array(seq)]`, which will result either in an error or a different result.\n",
      "  return np.add.reduce(sorted[indexer] * weights, axis=axis) / sumval\n"
     ]
    },
    {
     "data": {
      "text/plain": [
       "<matplotlib.axes._subplots.AxesSubplot at 0x1e99ad596d8>"
      ]
     },
     "execution_count": 18,
     "metadata": {},
     "output_type": "execute_result"
    },
    {
     "data": {
      "image/png": "[encoded data removed]",
      "text/plain": [
       "<Figure size 432x288 with 1 Axes>"
      ]
     },
     "metadata": {
      "needs_background": "light"
     },
     "output_type": "display_data"
    }
   ],
   "source": [
    "sns.distplot(df_ml[\"SerumHbA1c_1\"])"
   ]
  },
  {
   "cell_type": "code",
   "execution_count": 19,
   "metadata": {},
   "outputs": [
    {
     "data": {
      "text/plain": [
       "226"
      ]
     },
     "execution_count": 19,
     "metadata": {},
     "output_type": "execute_result"
    }
   ],
   "source": [
    "df_ml[\"Microvas_total\"][ df_ml[\"Microvas_total\"] == 0.0].size"
   ]
  },
  {
   "cell_type": "code",
   "execution_count": 20,
   "metadata": {},
   "outputs": [
    {
     "data": {
      "text/plain": [
       "429"
      ]
     },
     "execution_count": 20,
     "metadata": {},
     "output_type": "execute_result"
    }
   ],
   "source": [
    "df_ml[\"Macrovasculaire_ziekten\"][df_ml[\"Macrovasculaire_ziekten\"] == 0.0].size"
   ]
  },
  {
   "cell_type": "markdown",
   "metadata": {},
   "source": [
    "## 5 Normalize Data"
   ]
  },
  {
   "cell_type": "markdown",
   "metadata": {},
   "source": [
    "### 5.1 Select the features that  you want to train"
   ]
  },
  {
   "cell_type": "code",
   "execution_count": 21,
   "metadata": {},
   "outputs": [],
   "source": [
    "named_train_features = [\"Leeftijd_poli1\", \"Freq_tot\", \"Pack_years\", \"Alcoholgebruik1EHpermaand\", \"Lengte_poli1\",\"Gewicht_poli1\", \"Buikomvang_1\", \"Heupomvang_1\", \"Serum_cholesterol_1\",\n",
    "             \"Total_number_drugs\", \"Gender\",\"DMduur\", \"Total_EH_Insulin\", \"SBP\", \"DBP\"]"
   ]
  },
  {
   "cell_type": "code",
   "execution_count": 22,
   "metadata": {},
   "outputs": [],
   "source": [
    "#to_numpy() added to avoid warnings because of depreacated functions\n",
    "all_data = df_ml[named_train_features].to_numpy()\n",
    "target = df_ml[\"SerumHbA1c_1\"].to_numpy()"
   ]
  },
  {
   "cell_type": "code",
   "execution_count": 23,
   "metadata": {},
   "outputs": [
    {
     "data": {
      "text/plain": [
       "15"
      ]
     },
     "execution_count": 23,
     "metadata": {},
     "output_type": "execute_result"
    }
   ],
   "source": [
    "len(all_data[1,:])"
   ]
  },
  {
   "cell_type": "code",
   "execution_count": 24,
   "metadata": {},
   "outputs": [
    {
     "data": {
      "text/plain": [
       "(670,)"
      ]
     },
     "execution_count": 24,
     "metadata": {},
     "output_type": "execute_result"
    }
   ],
   "source": [
    "target.shape"
   ]
  },
  {
   "cell_type": "code",
   "execution_count": 25,
   "metadata": {},
   "outputs": [],
   "source": [
    ">>> from sklearn.preprocessing import Normalizer\n",
    "transformer_features = Normalizer()\n",
    "normalized_features = transformer_features.transform(all_data)\n",
    "normalized_target = target / np.sqrt(np.dot(target, target))\n"
   ]
  },
  {
   "cell_type": "markdown",
   "metadata": {},
   "source": [
    "### 5.2 Split the data into training and validation set"
   ]
  },
  {
   "cell_type": "code",
   "execution_count": 26,
   "metadata": {},
   "outputs": [],
   "source": [
    "# Random split of dataset in training and validation samples\n",
    "number_of_patients = all_data.shape[0]\n",
    "indices = np.arange(number_of_patients)\n",
    "frac_validation = 0.2\n",
    "size_valid = int(len(indices) * frac_validation) \n",
    "index_valid = np.random.choice(indices, size=size_valid, replace=False)\n",
    "index_train = np.setdiff1d(indices, index_valid, assume_unique=True)  ## Intersection, wat niet in index_valid zit meenemen"
   ]
  },
  {
   "cell_type": "code",
   "execution_count": 27,
   "metadata": {},
   "outputs": [
    {
     "name": "stdout",
     "output_type": "stream",
     "text": [
      "(670, 15)\n",
      "536\n",
      "134\n"
     ]
    }
   ],
   "source": [
    "print(normalized_features.shape)\n",
    "train_features = normalized_features[index_train]\n",
    "valid_features = normalized_features[index_valid]\n",
    "train_target =  normalized_target[index_train]\n",
    "valid_target =  normalized_target[index_valid]\n",
    "print(train_target.size)\n",
    "print(valid_target.size)"
   ]
  },
  {
   "cell_type": "markdown",
   "metadata": {},
   "source": [
    "## 6 Explore some Regression/Classification model"
   ]
  },
  {
   "cell_type": "code",
   "execution_count": 28,
   "metadata": {},
   "outputs": [],
   "source": [
    "def create_scatter_plot(predicted: np.ndarray, expected: np.ndarray, workdir: str = \".\") -> None:\n",
    "    \"\"\"Plot the predicted vs the expected values.\"\"\"\n",
    "    predicted = predicted.flatten()\n",
    "    expected = expected.flatten()\n",
    "    sns.set()\n",
    "\n",
    "    df = pd.DataFrame({'expected': expected, 'predicted': predicted})\n",
    "\n",
    "    sns.regplot(x='expected', y='predicted', data=df)"
   ]
  },
  {
   "cell_type": "markdown",
   "metadata": {},
   "source": [
    "### 6.1 Random Forest Regressor"
   ]
  },
  {
   "cell_type": "code",
   "execution_count": 29,
   "metadata": {},
   "outputs": [
    {
     "name": "stderr",
     "output_type": "stream",
     "text": [
      "C:\\Users\\dHollosyW\\AppData\\Local\\Continuum\\anaconda3\\lib\\site-packages\\scipy\\stats\\stats.py:1713: FutureWarning: Using a non-tuple sequence for multidimensional indexing is deprecated; use `arr[tuple(seq)]` instead of `arr[seq]`. In the future this will be interpreted as an array index, `arr[np.array(seq)]`, which will result either in an error or a different result.\n",
      "  return np.add.reduce(sorted[indexer] * weights, axis=axis) / sumval\n"
     ]
    },
    {
     "data": {
      "image/png": "[encoded data removed]",
      "text/plain": [
       "<Figure size 432x288 with 1 Axes>"
      ]
     },
     "metadata": {},
     "output_type": "display_data"
    }
   ],
   "source": [
    "from sklearn.ensemble import RandomForestRegressor\n",
    "sklearn_model = RandomForestRegressor(n_estimators=100)\n",
    "# Train data\n",
    "sklearn_model.fit(train_features, train_target)\n",
    "predicted = sklearn_model.predict(valid_features)\n",
    "create_scatter_plot(predicted, valid_target)"
   ]
  },
  {
   "cell_type": "code",
   "execution_count": 30,
   "metadata": {},
   "outputs": [],
   "source": [
    "from sklearn.datasets import fetch_openml\n",
    "from sklearn.ensemble import RandomForestClassifier\n",
    "from sklearn.impute import SimpleImputer\n",
    "from sklearn.inspection import permutation_importance\n",
    "from sklearn.compose import ColumnTransformer\n",
    "from sklearn.model_selection import train_test_split\n",
    "from sklearn.pipeline import Pipeline\n",
    "from sklearn.preprocessing import OneHotEncoder"
   ]
  },
  {
   "cell_type": "code",
   "execution_count": 31,
   "metadata": {},
   "outputs": [
    {
     "name": "stdout",
     "output_type": "stream",
     "text": [
      "RF train accuracy: 0.874\n",
      "RF test accuracy: 0.135\n"
     ]
    }
   ],
   "source": [
    "print(\"RF train accuracy: %0.3f\" % sklearn_model.score(train_features, train_target))\n",
    "print(\"RF test accuracy: %0.3f\" % sklearn_model.score(valid_features, valid_target))"
   ]
  },
  {
   "cell_type": "code",
   "execution_count": 32,
   "metadata": {},
   "outputs": [
    {
     "name": "stdout",
     "output_type": "stream",
     "text": [
      "[['Leeftijd_poli1', 0.07861343942187368], ['Freq_tot', 0.06760695660628527], ['Pack_years', 0.04764124484614946], ['Alcoholgebruik1EHpermaand', 0.046496550218127715], ['Lengte_poli1', 0.06023066665418901], ['Gewicht_poli1', 0.04901899736107864], ['Buikomvang_1', 0.04800566870473442], ['Heupomvang_1', 0.05849615887820992], ['Serum_cholesterol_1', 0.09595412873533692], ['Total_number_drugs', 0.06701236683214205], ['Gender', 0.034257373452946584], ['DMduur', 0.10956485233368028], ['Total_EH_Insulin', 0.11698244408319676], ['SBP', 0.050075817508975294], ['DBP', 0.07004333436307401]]\n",
      "['Leeftijd_poli1', 'Freq_tot', 'Pack_years', 'Alcoholgebruik1EHpermaand', 'Lengte_poli1', 'Gewicht_poli1', 'Buikomvang_1', 'Heupomvang_1', 'Serum_cholesterol_1', 'Total_number_drugs', 'Gender', 'DMduur', 'Total_EH_Insulin', 'SBP', 'DBP']\n",
      "[0.07861344 0.06760696 0.04764124 0.04649655 0.06023067 0.049019\n",
      " 0.04800567 0.05849616 0.09595413 0.06701237 0.03425737 0.10956485\n",
      " 0.11698244 0.05007582 0.07004333]\n",
      "[10  3  2  6  5 13  7  4  9  1 14  0  8 11 12]\n"
     ]
    }
   ],
   "source": [
    "importances = sklearn_model.feature_importances_\n",
    "tree_feature_importances = {key: importances[i] for i, key in enumerate(named_train_features)}\n",
    "\n",
    "# Converting into list of tuple \n",
    "feature_importances = [[k, v] for k, v in tree_feature_importances.items()] \n",
    "\n",
    "# Printing list of tuple \n",
    "print(feature_importances) \n",
    "print(named_train_features) \n",
    "print(importances) \n",
    "sorted_idx = importances.argsort()\n",
    "print(sorted_idx)"
   ]
  },
  {
   "cell_type": "code",
   "execution_count": 33,
   "metadata": {},
   "outputs": [
    {
     "data": {
      "text/plain": [
       "numpy.ndarray"
      ]
     },
     "execution_count": 33,
     "metadata": {},
     "output_type": "execute_result"
    }
   ],
   "source": [
    "type(importances)"
   ]
  },
  {
   "cell_type": "code",
   "execution_count": 34,
   "metadata": {},
   "outputs": [
    {
     "data": {
      "text/plain": [
       "list"
      ]
     },
     "execution_count": 34,
     "metadata": {},
     "output_type": "execute_result"
    }
   ],
   "source": [
    "type(named_train_features)"
   ]
  },
  {
   "cell_type": "code",
   "execution_count": 35,
   "metadata": {},
   "outputs": [
    {
     "data": {
      "text/plain": [
       "numpy.ndarray"
      ]
     },
     "execution_count": 35,
     "metadata": {},
     "output_type": "execute_result"
    }
   ],
   "source": [
    "named_train_features = np.array(named_train_features)\n",
    "type(named_train_features)"
   ]
  },
  {
   "cell_type": "code",
   "execution_count": 36,
   "metadata": {},
   "outputs": [
    {
     "data": {
      "image/png": "[encoded data removed]",
      "text/plain": [
       "<Figure size 720x720 with 1 Axes>"
      ]
     },
     "metadata": {},
     "output_type": "display_data"
    }
   ],
   "source": [
    "y_ticks = np.arange(0, len(named_train_features))\n",
    "fig, ax = plt.subplots(figsize=(10, 10))\n",
    "ax.barh(y_ticks, importances[sorted_idx])\n",
    "ax.set_yticklabels(named_train_features[sorted_idx])\n",
    "ax.set_yticks(y_ticks)\n",
    "ax.set_title(\"Random Forest Feature Importances (MDI)\")\n",
    "#fig.tight_layout()\n",
    "plt.show()"
   ]
  },
  {
   "cell_type": "code",
   "execution_count": 40,
   "metadata": {},
   "outputs": [
    {
     "data": {
      "image/png": "[encoded data removed]",
      "text/plain": [
       "<Figure size 720x720 with 1 Axes>"
      ]
     },
     "metadata": {},
     "output_type": "display_data"
    }
   ],
   "source": [
    "result = permutation_importance(sklearn_model, valid_features, valid_target, n_repeats=10,\n",
    "                                random_state=42, n_jobs=2)\n",
    "sorted_idx = result.importances_mean.argsort()\n",
    "\n",
    "fig, ax = plt.subplots(figsize=(10, 10))\n",
    "ax.boxplot(result.importances[sorted_idx].T,\n",
    "           vert=False, labels=named_train_features[sorted_idx])\n",
    "ax.set_title(\"Permutation Importances (test set)\")\n",
    "fig.tight_layout()\n",
    "plt.show()"
   ]
  },
  {
   "cell_type": "code",
   "execution_count": 43,
   "metadata": {},
   "outputs": [
    {
     "data": {
      "image/png": "[encoded data removed]",
      "text/plain": [
       "<Figure size 720x720 with 1 Axes>"
      ]
     },
     "metadata": {},
     "output_type": "display_data"
    }
   ],
   "source": [
    "result = permutation_importance(sklearn_model, train_features, train_target, n_repeats=10,\n",
    "                                random_state=42, n_jobs=2)\n",
    "sorted_idx = result.importances_mean.argsort()\n",
    "\n",
    "fig, ax = plt.subplots(figsize=(10, 10))\n",
    "ax.boxplot(result.importances[sorted_idx].T,\n",
    "           vert=False, labels=named_train_features[sorted_idx])\n",
    "ax.set_title(\"Permutation Importances (train set)\")\n",
    "fig.tight_layout()\n",
    "plt.show()"
   ]
  },
  {
   "cell_type": "markdown",
   "metadata": {},
   "source": [
    "### 6.2 Hyperparameter optimization"
   ]
  },
  {
   "cell_type": "code",
   "execution_count": 69,
   "metadata": {},
   "outputs": [],
   "source": [
    "# What are the best hyperparameters?\n",
    "# gradient descent https://en.wikipedia.org/wiki/Gradient_descent \n",
    "#              and https://ml-cheatsheet.readthedocs.io/en/latest/gradient_descent.html\n",
    "# Cost function: cost versus weight"
   ]
  },
  {
   "cell_type": "markdown",
   "metadata": {},
   "source": [
    "### 6.3 A simple Deep Feedforward Network"
   ]
  },
  {
   "cell_type": "code",
   "execution_count": null,
   "metadata": {},
   "outputs": [],
   "source": []
  }
 ],
 "metadata": {
  "kernelspec": {
   "display_name": "Python 3",
   "language": "python",
   "name": "python3"
  },
  "language_info": {
   "codemirror_mode": {
    "name": "ipython",
    "version": 3
   },
   "file_extension": ".py",
   "mimetype": "text/x-python",
   "name": "python",
   "nbconvert_exporter": "python",
   "pygments_lexer": "ipython3",
   "version": "3.7.1"
  }
 },
 "nbformat": 4,
 "nbformat_minor": 4
}
