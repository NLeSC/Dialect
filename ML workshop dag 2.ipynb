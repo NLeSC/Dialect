{
 "cells": [
  {
   "cell_type": "code",
   "execution_count": 2,
   "metadata": {},
   "outputs": [],
   "source": [
    "import pandas as pd\n",
    "from pathlib import Path"
   ]
  },
  {
   "cell_type": "code",
   "execution_count": 121,
   "metadata": {},
   "outputs": [],
   "source": [
    "import matplotlib.pyplot as plt\n",
    "import numpy as np\n",
    "import scipy.stats as stats\n",
    "import math\n",
    "import seaborn as sns"
   ]
  },
  {
   "cell_type": "code",
   "execution_count": 26,
   "metadata": {},
   "outputs": [],
   "source": [
    "df_spss = pd.read_spss(\"..\\data\\DIALECT.sav\")"
   ]
  },
  {
   "cell_type": "code",
   "execution_count": 27,
   "metadata": {},
   "outputs": [
    {
     "data": {
      "text/html": [
       "<div>\n",
       "<style scoped>\n",
       "    .dataframe tbody tr th:only-of-type {\n",
       "        vertical-align: middle;\n",
       "    }\n",
       "\n",
       "    .dataframe tbody tr th {\n",
       "        vertical-align: top;\n",
       "    }\n",
       "\n",
       "    .dataframe thead th {\n",
       "        text-align: right;\n",
       "    }\n",
       "</style>\n",
       "<table border=\"1\" class=\"dataframe\">\n",
       "  <thead>\n",
       "    <tr style=\"text-align: right;\">\n",
       "      <th></th>\n",
       "      <th>Subjectnr</th>\n",
       "      <th>Geslacht</th>\n",
       "      <th>Leeftijd_poli1</th>\n",
       "      <th>Polidatum1</th>\n",
       "      <th>Polijaar_1</th>\n",
       "      <th>Polibezoek</th>\n",
       "      <th>Arts</th>\n",
       "      <th>Freq_arts</th>\n",
       "      <th>Freq_vp</th>\n",
       "      <th>Freq_tot</th>\n",
       "      <th>...</th>\n",
       "      <th>SumOfvite</th>\n",
       "      <th>SumOfrae</th>\n",
       "      <th>SumOffole</th>\n",
       "      <th>SumOfzink</th>\n",
       "      <th>SumOfdpa</th>\n",
       "      <th>SumOfarachidonz</th>\n",
       "      <th>SumOffolaat</th>\n",
       "      <th>SumOfnico</th>\n",
       "      <th>SumOfwater</th>\n",
       "      <th>SumOfnatrium</th>\n",
       "    </tr>\n",
       "  </thead>\n",
       "  <tbody>\n",
       "    <tr>\n",
       "      <td>0</td>\n",
       "      <td>NaN</td>\n",
       "      <td>NaN</td>\n",
       "      <td>NaN</td>\n",
       "      <td>NaN</td>\n",
       "      <td>NaN</td>\n",
       "      <td>NaN</td>\n",
       "      <td>NaN</td>\n",
       "      <td>NaN</td>\n",
       "      <td>NaN</td>\n",
       "      <td>NaN</td>\n",
       "      <td>...</td>\n",
       "      <td>NaN</td>\n",
       "      <td>NaN</td>\n",
       "      <td>NaN</td>\n",
       "      <td>NaN</td>\n",
       "      <td>NaN</td>\n",
       "      <td>NaN</td>\n",
       "      <td>NaN</td>\n",
       "      <td>NaN</td>\n",
       "      <td>NaN</td>\n",
       "      <td>NaN</td>\n",
       "    </tr>\n",
       "    <tr>\n",
       "      <td>1</td>\n",
       "      <td>NaN</td>\n",
       "      <td>NaN</td>\n",
       "      <td>NaN</td>\n",
       "      <td>NaN</td>\n",
       "      <td>NaN</td>\n",
       "      <td>NaN</td>\n",
       "      <td>NaN</td>\n",
       "      <td>NaN</td>\n",
       "      <td>NaN</td>\n",
       "      <td>NaN</td>\n",
       "      <td>...</td>\n",
       "      <td>NaN</td>\n",
       "      <td>NaN</td>\n",
       "      <td>NaN</td>\n",
       "      <td>NaN</td>\n",
       "      <td>NaN</td>\n",
       "      <td>NaN</td>\n",
       "      <td>NaN</td>\n",
       "      <td>NaN</td>\n",
       "      <td>NaN</td>\n",
       "      <td>NaN</td>\n",
       "    </tr>\n",
       "    <tr>\n",
       "      <td>2</td>\n",
       "      <td>1.0</td>\n",
       "      <td>man</td>\n",
       "      <td>65.0</td>\n",
       "      <td>2009-08-31</td>\n",
       "      <td>2009.0</td>\n",
       "      <td>Eerste bezoek</td>\n",
       "      <td>Schot</td>\n",
       "      <td>4.0</td>\n",
       "      <td>0.0</td>\n",
       "      <td>4.0</td>\n",
       "      <td>...</td>\n",
       "      <td>13.267616</td>\n",
       "      <td>602.510257</td>\n",
       "      <td>173.289978</td>\n",
       "      <td>9.203426</td>\n",
       "      <td>0.000000</td>\n",
       "      <td>0.034463</td>\n",
       "      <td>173.289978</td>\n",
       "      <td>16.178387</td>\n",
       "      <td>1591.211480</td>\n",
       "      <td>2607.443336</td>\n",
       "    </tr>\n",
       "    <tr>\n",
       "      <td>3</td>\n",
       "      <td>2.0</td>\n",
       "      <td>man</td>\n",
       "      <td>61.0</td>\n",
       "      <td>2009-08-31</td>\n",
       "      <td>2009.0</td>\n",
       "      <td>Eerste bezoek</td>\n",
       "      <td>Oving</td>\n",
       "      <td>1.0</td>\n",
       "      <td>4.0</td>\n",
       "      <td>5.0</td>\n",
       "      <td>...</td>\n",
       "      <td>10.662237</td>\n",
       "      <td>645.575531</td>\n",
       "      <td>133.897548</td>\n",
       "      <td>7.454809</td>\n",
       "      <td>0.000010</td>\n",
       "      <td>0.047574</td>\n",
       "      <td>133.897548</td>\n",
       "      <td>16.796363</td>\n",
       "      <td>2216.603139</td>\n",
       "      <td>1891.477166</td>\n",
       "    </tr>\n",
       "    <tr>\n",
       "      <td>4</td>\n",
       "      <td>3.0</td>\n",
       "      <td>man</td>\n",
       "      <td>56.0</td>\n",
       "      <td>2009-08-31</td>\n",
       "      <td>2009.0</td>\n",
       "      <td>Eerste bezoek</td>\n",
       "      <td>Veneman</td>\n",
       "      <td>0.0</td>\n",
       "      <td>0.0</td>\n",
       "      <td>0.0</td>\n",
       "      <td>...</td>\n",
       "      <td>29.996976</td>\n",
       "      <td>1207.776682</td>\n",
       "      <td>209.312323</td>\n",
       "      <td>13.193616</td>\n",
       "      <td>0.000494</td>\n",
       "      <td>0.031634</td>\n",
       "      <td>205.339877</td>\n",
       "      <td>22.143815</td>\n",
       "      <td>2758.233627</td>\n",
       "      <td>3351.952037</td>\n",
       "    </tr>\n",
       "    <tr>\n",
       "      <td>...</td>\n",
       "      <td>...</td>\n",
       "      <td>...</td>\n",
       "      <td>...</td>\n",
       "      <td>...</td>\n",
       "      <td>...</td>\n",
       "      <td>...</td>\n",
       "      <td>...</td>\n",
       "      <td>...</td>\n",
       "      <td>...</td>\n",
       "      <td>...</td>\n",
       "      <td>...</td>\n",
       "      <td>...</td>\n",
       "      <td>...</td>\n",
       "      <td>...</td>\n",
       "      <td>...</td>\n",
       "      <td>...</td>\n",
       "      <td>...</td>\n",
       "      <td>...</td>\n",
       "      <td>...</td>\n",
       "      <td>...</td>\n",
       "      <td>...</td>\n",
       "    </tr>\n",
       "    <tr>\n",
       "      <td>669</td>\n",
       "      <td>732.0</td>\n",
       "      <td>vrouw</td>\n",
       "      <td>74.0</td>\n",
       "      <td>2019-05-22</td>\n",
       "      <td>2019.0</td>\n",
       "      <td>Eerste bezoek</td>\n",
       "      <td>van berkum</td>\n",
       "      <td>3.0</td>\n",
       "      <td>1.0</td>\n",
       "      <td>4.0</td>\n",
       "      <td>...</td>\n",
       "      <td>NaN</td>\n",
       "      <td>NaN</td>\n",
       "      <td>NaN</td>\n",
       "      <td>NaN</td>\n",
       "      <td>NaN</td>\n",
       "      <td>NaN</td>\n",
       "      <td>NaN</td>\n",
       "      <td>NaN</td>\n",
       "      <td>NaN</td>\n",
       "      <td>NaN</td>\n",
       "    </tr>\n",
       "    <tr>\n",
       "      <td>670</td>\n",
       "      <td>733.0</td>\n",
       "      <td>vrouw</td>\n",
       "      <td>28.0</td>\n",
       "      <td>2019-04-26</td>\n",
       "      <td>2019.0</td>\n",
       "      <td>Eerste bezoek</td>\n",
       "      <td>Visser</td>\n",
       "      <td>7.0</td>\n",
       "      <td>24.0</td>\n",
       "      <td>31.0</td>\n",
       "      <td>...</td>\n",
       "      <td>NaN</td>\n",
       "      <td>NaN</td>\n",
       "      <td>NaN</td>\n",
       "      <td>NaN</td>\n",
       "      <td>NaN</td>\n",
       "      <td>NaN</td>\n",
       "      <td>NaN</td>\n",
       "      <td>NaN</td>\n",
       "      <td>NaN</td>\n",
       "      <td>NaN</td>\n",
       "    </tr>\n",
       "    <tr>\n",
       "      <td>671</td>\n",
       "      <td>734.0</td>\n",
       "      <td>man</td>\n",
       "      <td>65.0</td>\n",
       "      <td>2019-05-08</td>\n",
       "      <td>2019.0</td>\n",
       "      <td>Eerste bezoek</td>\n",
       "      <td>de Vries</td>\n",
       "      <td>5.0</td>\n",
       "      <td>8.0</td>\n",
       "      <td>13.0</td>\n",
       "      <td>...</td>\n",
       "      <td>NaN</td>\n",
       "      <td>NaN</td>\n",
       "      <td>NaN</td>\n",
       "      <td>NaN</td>\n",
       "      <td>NaN</td>\n",
       "      <td>NaN</td>\n",
       "      <td>NaN</td>\n",
       "      <td>NaN</td>\n",
       "      <td>NaN</td>\n",
       "      <td>NaN</td>\n",
       "    </tr>\n",
       "    <tr>\n",
       "      <td>672</td>\n",
       "      <td>736.0</td>\n",
       "      <td>man</td>\n",
       "      <td>77.0</td>\n",
       "      <td>2019-05-22</td>\n",
       "      <td>2019.0</td>\n",
       "      <td>Eerste bezoek</td>\n",
       "      <td>Laverman</td>\n",
       "      <td>4.0</td>\n",
       "      <td>2.0</td>\n",
       "      <td>6.0</td>\n",
       "      <td>...</td>\n",
       "      <td>NaN</td>\n",
       "      <td>NaN</td>\n",
       "      <td>NaN</td>\n",
       "      <td>NaN</td>\n",
       "      <td>NaN</td>\n",
       "      <td>NaN</td>\n",
       "      <td>NaN</td>\n",
       "      <td>NaN</td>\n",
       "      <td>NaN</td>\n",
       "      <td>NaN</td>\n",
       "    </tr>\n",
       "    <tr>\n",
       "      <td>673</td>\n",
       "      <td>737.0</td>\n",
       "      <td>man</td>\n",
       "      <td>69.0</td>\n",
       "      <td>2019-05-22</td>\n",
       "      <td>2019.0</td>\n",
       "      <td>Eerste bezoek</td>\n",
       "      <td>Gijzel</td>\n",
       "      <td>6.0</td>\n",
       "      <td>4.0</td>\n",
       "      <td>10.0</td>\n",
       "      <td>...</td>\n",
       "      <td>NaN</td>\n",
       "      <td>NaN</td>\n",
       "      <td>NaN</td>\n",
       "      <td>NaN</td>\n",
       "      <td>NaN</td>\n",
       "      <td>NaN</td>\n",
       "      <td>NaN</td>\n",
       "      <td>NaN</td>\n",
       "      <td>NaN</td>\n",
       "      <td>NaN</td>\n",
       "    </tr>\n",
       "  </tbody>\n",
       "</table>\n",
       "<p>674 rows × 741 columns</p>\n",
       "</div>"
      ],
      "text/plain": [
       "     Subjectnr Geslacht  Leeftijd_poli1  Polidatum1  Polijaar_1  \\\n",
       "0          NaN      NaN             NaN         NaN         NaN   \n",
       "1          NaN      NaN             NaN         NaN         NaN   \n",
       "2          1.0      man            65.0  2009-08-31      2009.0   \n",
       "3          2.0      man            61.0  2009-08-31      2009.0   \n",
       "4          3.0      man            56.0  2009-08-31      2009.0   \n",
       "..         ...      ...             ...         ...         ...   \n",
       "669      732.0    vrouw            74.0  2019-05-22      2019.0   \n",
       "670      733.0    vrouw            28.0  2019-04-26      2019.0   \n",
       "671      734.0      man            65.0  2019-05-08      2019.0   \n",
       "672      736.0      man            77.0  2019-05-22      2019.0   \n",
       "673      737.0      man            69.0  2019-05-22      2019.0   \n",
       "\n",
       "        Polibezoek        Arts  Freq_arts  Freq_vp  Freq_tot  ...  SumOfvite  \\\n",
       "0              NaN         NaN        NaN      NaN       NaN  ...        NaN   \n",
       "1              NaN         NaN        NaN      NaN       NaN  ...        NaN   \n",
       "2    Eerste bezoek       Schot        4.0      0.0       4.0  ...  13.267616   \n",
       "3    Eerste bezoek       Oving        1.0      4.0       5.0  ...  10.662237   \n",
       "4    Eerste bezoek     Veneman        0.0      0.0       0.0  ...  29.996976   \n",
       "..             ...         ...        ...      ...       ...  ...        ...   \n",
       "669  Eerste bezoek  van berkum        3.0      1.0       4.0  ...        NaN   \n",
       "670  Eerste bezoek      Visser        7.0     24.0      31.0  ...        NaN   \n",
       "671  Eerste bezoek    de Vries        5.0      8.0      13.0  ...        NaN   \n",
       "672  Eerste bezoek    Laverman        4.0      2.0       6.0  ...        NaN   \n",
       "673  Eerste bezoek      Gijzel        6.0      4.0      10.0  ...        NaN   \n",
       "\n",
       "        SumOfrae   SumOffole  SumOfzink  SumOfdpa  SumOfarachidonz  \\\n",
       "0            NaN         NaN        NaN       NaN              NaN   \n",
       "1            NaN         NaN        NaN       NaN              NaN   \n",
       "2     602.510257  173.289978   9.203426  0.000000         0.034463   \n",
       "3     645.575531  133.897548   7.454809  0.000010         0.047574   \n",
       "4    1207.776682  209.312323  13.193616  0.000494         0.031634   \n",
       "..           ...         ...        ...       ...              ...   \n",
       "669          NaN         NaN        NaN       NaN              NaN   \n",
       "670          NaN         NaN        NaN       NaN              NaN   \n",
       "671          NaN         NaN        NaN       NaN              NaN   \n",
       "672          NaN         NaN        NaN       NaN              NaN   \n",
       "673          NaN         NaN        NaN       NaN              NaN   \n",
       "\n",
       "     SumOffolaat  SumOfnico   SumOfwater SumOfnatrium  \n",
       "0            NaN        NaN          NaN          NaN  \n",
       "1            NaN        NaN          NaN          NaN  \n",
       "2     173.289978  16.178387  1591.211480  2607.443336  \n",
       "3     133.897548  16.796363  2216.603139  1891.477166  \n",
       "4     205.339877  22.143815  2758.233627  3351.952037  \n",
       "..           ...        ...          ...          ...  \n",
       "669          NaN        NaN          NaN          NaN  \n",
       "670          NaN        NaN          NaN          NaN  \n",
       "671          NaN        NaN          NaN          NaN  \n",
       "672          NaN        NaN          NaN          NaN  \n",
       "673          NaN        NaN          NaN          NaN  \n",
       "\n",
       "[674 rows x 741 columns]"
      ]
     },
     "execution_count": 27,
     "metadata": {},
     "output_type": "execute_result"
    }
   ],
   "source": [
    "df_spss"
   ]
  },
  {
   "cell_type": "code",
   "execution_count": 30,
   "metadata": {},
   "outputs": [],
   "source": [
    "# De eerste twee patienten hebben geen waarden ingevuld, dus kunnen verwijderd worden\n",
    "# Voor het vinden van argumenten bij een functie:\n",
    "# df_spss.drop?\n",
    "df_spss.drop([0, 1], inplace=True)"
   ]
  },
  {
   "cell_type": "code",
   "execution_count": 31,
   "metadata": {},
   "outputs": [
    {
     "data": {
      "text/html": [
       "<div>\n",
       "<style scoped>\n",
       "    .dataframe tbody tr th:only-of-type {\n",
       "        vertical-align: middle;\n",
       "    }\n",
       "\n",
       "    .dataframe tbody tr th {\n",
       "        vertical-align: top;\n",
       "    }\n",
       "\n",
       "    .dataframe thead th {\n",
       "        text-align: right;\n",
       "    }\n",
       "</style>\n",
       "<table border=\"1\" class=\"dataframe\">\n",
       "  <thead>\n",
       "    <tr style=\"text-align: right;\">\n",
       "      <th></th>\n",
       "      <th>Subjectnr</th>\n",
       "      <th>Geslacht</th>\n",
       "      <th>Leeftijd_poli1</th>\n",
       "      <th>Polidatum1</th>\n",
       "      <th>Polijaar_1</th>\n",
       "      <th>Polibezoek</th>\n",
       "      <th>Arts</th>\n",
       "      <th>Freq_arts</th>\n",
       "      <th>Freq_vp</th>\n",
       "      <th>Freq_tot</th>\n",
       "      <th>...</th>\n",
       "      <th>SumOfvite</th>\n",
       "      <th>SumOfrae</th>\n",
       "      <th>SumOffole</th>\n",
       "      <th>SumOfzink</th>\n",
       "      <th>SumOfdpa</th>\n",
       "      <th>SumOfarachidonz</th>\n",
       "      <th>SumOffolaat</th>\n",
       "      <th>SumOfnico</th>\n",
       "      <th>SumOfwater</th>\n",
       "      <th>SumOfnatrium</th>\n",
       "    </tr>\n",
       "  </thead>\n",
       "  <tbody>\n",
       "    <tr>\n",
       "      <td>2</td>\n",
       "      <td>1.0</td>\n",
       "      <td>man</td>\n",
       "      <td>65.0</td>\n",
       "      <td>2009-08-31</td>\n",
       "      <td>2009.0</td>\n",
       "      <td>Eerste bezoek</td>\n",
       "      <td>Schot</td>\n",
       "      <td>4.0</td>\n",
       "      <td>0.0</td>\n",
       "      <td>4.0</td>\n",
       "      <td>...</td>\n",
       "      <td>13.267616</td>\n",
       "      <td>602.510257</td>\n",
       "      <td>173.289978</td>\n",
       "      <td>9.203426</td>\n",
       "      <td>0.000000</td>\n",
       "      <td>0.034463</td>\n",
       "      <td>173.289978</td>\n",
       "      <td>16.178387</td>\n",
       "      <td>1591.211480</td>\n",
       "      <td>2607.443336</td>\n",
       "    </tr>\n",
       "    <tr>\n",
       "      <td>3</td>\n",
       "      <td>2.0</td>\n",
       "      <td>man</td>\n",
       "      <td>61.0</td>\n",
       "      <td>2009-08-31</td>\n",
       "      <td>2009.0</td>\n",
       "      <td>Eerste bezoek</td>\n",
       "      <td>Oving</td>\n",
       "      <td>1.0</td>\n",
       "      <td>4.0</td>\n",
       "      <td>5.0</td>\n",
       "      <td>...</td>\n",
       "      <td>10.662237</td>\n",
       "      <td>645.575531</td>\n",
       "      <td>133.897548</td>\n",
       "      <td>7.454809</td>\n",
       "      <td>0.000010</td>\n",
       "      <td>0.047574</td>\n",
       "      <td>133.897548</td>\n",
       "      <td>16.796363</td>\n",
       "      <td>2216.603139</td>\n",
       "      <td>1891.477166</td>\n",
       "    </tr>\n",
       "    <tr>\n",
       "      <td>4</td>\n",
       "      <td>3.0</td>\n",
       "      <td>man</td>\n",
       "      <td>56.0</td>\n",
       "      <td>2009-08-31</td>\n",
       "      <td>2009.0</td>\n",
       "      <td>Eerste bezoek</td>\n",
       "      <td>Veneman</td>\n",
       "      <td>0.0</td>\n",
       "      <td>0.0</td>\n",
       "      <td>0.0</td>\n",
       "      <td>...</td>\n",
       "      <td>29.996976</td>\n",
       "      <td>1207.776682</td>\n",
       "      <td>209.312323</td>\n",
       "      <td>13.193616</td>\n",
       "      <td>0.000494</td>\n",
       "      <td>0.031634</td>\n",
       "      <td>205.339877</td>\n",
       "      <td>22.143815</td>\n",
       "      <td>2758.233627</td>\n",
       "      <td>3351.952037</td>\n",
       "    </tr>\n",
       "    <tr>\n",
       "      <td>5</td>\n",
       "      <td>4.0</td>\n",
       "      <td>vrouw</td>\n",
       "      <td>51.0</td>\n",
       "      <td>2009-08-31</td>\n",
       "      <td>2009.0</td>\n",
       "      <td>Eerste bezoek</td>\n",
       "      <td>Ouwehand</td>\n",
       "      <td>1.0</td>\n",
       "      <td>4.0</td>\n",
       "      <td>5.0</td>\n",
       "      <td>...</td>\n",
       "      <td>4.281328</td>\n",
       "      <td>218.128055</td>\n",
       "      <td>90.296190</td>\n",
       "      <td>5.820861</td>\n",
       "      <td>0.000057</td>\n",
       "      <td>0.039529</td>\n",
       "      <td>90.296190</td>\n",
       "      <td>5.644264</td>\n",
       "      <td>673.484131</td>\n",
       "      <td>1646.457431</td>\n",
       "    </tr>\n",
       "    <tr>\n",
       "      <td>6</td>\n",
       "      <td>5.0</td>\n",
       "      <td>vrouw</td>\n",
       "      <td>60.0</td>\n",
       "      <td>2009-08-31</td>\n",
       "      <td>2009.0</td>\n",
       "      <td>Eerste bezoek</td>\n",
       "      <td>van Zanten</td>\n",
       "      <td>1.0</td>\n",
       "      <td>4.0</td>\n",
       "      <td>5.0</td>\n",
       "      <td>...</td>\n",
       "      <td>16.653028</td>\n",
       "      <td>1482.346823</td>\n",
       "      <td>207.709797</td>\n",
       "      <td>10.275772</td>\n",
       "      <td>0.000243</td>\n",
       "      <td>0.079542</td>\n",
       "      <td>207.709797</td>\n",
       "      <td>18.294950</td>\n",
       "      <td>2028.428955</td>\n",
       "      <td>2972.889884</td>\n",
       "    </tr>\n",
       "    <tr>\n",
       "      <td>...</td>\n",
       "      <td>...</td>\n",
       "      <td>...</td>\n",
       "      <td>...</td>\n",
       "      <td>...</td>\n",
       "      <td>...</td>\n",
       "      <td>...</td>\n",
       "      <td>...</td>\n",
       "      <td>...</td>\n",
       "      <td>...</td>\n",
       "      <td>...</td>\n",
       "      <td>...</td>\n",
       "      <td>...</td>\n",
       "      <td>...</td>\n",
       "      <td>...</td>\n",
       "      <td>...</td>\n",
       "      <td>...</td>\n",
       "      <td>...</td>\n",
       "      <td>...</td>\n",
       "      <td>...</td>\n",
       "      <td>...</td>\n",
       "      <td>...</td>\n",
       "    </tr>\n",
       "    <tr>\n",
       "      <td>669</td>\n",
       "      <td>732.0</td>\n",
       "      <td>vrouw</td>\n",
       "      <td>74.0</td>\n",
       "      <td>2019-05-22</td>\n",
       "      <td>2019.0</td>\n",
       "      <td>Eerste bezoek</td>\n",
       "      <td>van berkum</td>\n",
       "      <td>3.0</td>\n",
       "      <td>1.0</td>\n",
       "      <td>4.0</td>\n",
       "      <td>...</td>\n",
       "      <td>NaN</td>\n",
       "      <td>NaN</td>\n",
       "      <td>NaN</td>\n",
       "      <td>NaN</td>\n",
       "      <td>NaN</td>\n",
       "      <td>NaN</td>\n",
       "      <td>NaN</td>\n",
       "      <td>NaN</td>\n",
       "      <td>NaN</td>\n",
       "      <td>NaN</td>\n",
       "    </tr>\n",
       "    <tr>\n",
       "      <td>670</td>\n",
       "      <td>733.0</td>\n",
       "      <td>vrouw</td>\n",
       "      <td>28.0</td>\n",
       "      <td>2019-04-26</td>\n",
       "      <td>2019.0</td>\n",
       "      <td>Eerste bezoek</td>\n",
       "      <td>Visser</td>\n",
       "      <td>7.0</td>\n",
       "      <td>24.0</td>\n",
       "      <td>31.0</td>\n",
       "      <td>...</td>\n",
       "      <td>NaN</td>\n",
       "      <td>NaN</td>\n",
       "      <td>NaN</td>\n",
       "      <td>NaN</td>\n",
       "      <td>NaN</td>\n",
       "      <td>NaN</td>\n",
       "      <td>NaN</td>\n",
       "      <td>NaN</td>\n",
       "      <td>NaN</td>\n",
       "      <td>NaN</td>\n",
       "    </tr>\n",
       "    <tr>\n",
       "      <td>671</td>\n",
       "      <td>734.0</td>\n",
       "      <td>man</td>\n",
       "      <td>65.0</td>\n",
       "      <td>2019-05-08</td>\n",
       "      <td>2019.0</td>\n",
       "      <td>Eerste bezoek</td>\n",
       "      <td>de Vries</td>\n",
       "      <td>5.0</td>\n",
       "      <td>8.0</td>\n",
       "      <td>13.0</td>\n",
       "      <td>...</td>\n",
       "      <td>NaN</td>\n",
       "      <td>NaN</td>\n",
       "      <td>NaN</td>\n",
       "      <td>NaN</td>\n",
       "      <td>NaN</td>\n",
       "      <td>NaN</td>\n",
       "      <td>NaN</td>\n",
       "      <td>NaN</td>\n",
       "      <td>NaN</td>\n",
       "      <td>NaN</td>\n",
       "    </tr>\n",
       "    <tr>\n",
       "      <td>672</td>\n",
       "      <td>736.0</td>\n",
       "      <td>man</td>\n",
       "      <td>77.0</td>\n",
       "      <td>2019-05-22</td>\n",
       "      <td>2019.0</td>\n",
       "      <td>Eerste bezoek</td>\n",
       "      <td>Laverman</td>\n",
       "      <td>4.0</td>\n",
       "      <td>2.0</td>\n",
       "      <td>6.0</td>\n",
       "      <td>...</td>\n",
       "      <td>NaN</td>\n",
       "      <td>NaN</td>\n",
       "      <td>NaN</td>\n",
       "      <td>NaN</td>\n",
       "      <td>NaN</td>\n",
       "      <td>NaN</td>\n",
       "      <td>NaN</td>\n",
       "      <td>NaN</td>\n",
       "      <td>NaN</td>\n",
       "      <td>NaN</td>\n",
       "    </tr>\n",
       "    <tr>\n",
       "      <td>673</td>\n",
       "      <td>737.0</td>\n",
       "      <td>man</td>\n",
       "      <td>69.0</td>\n",
       "      <td>2019-05-22</td>\n",
       "      <td>2019.0</td>\n",
       "      <td>Eerste bezoek</td>\n",
       "      <td>Gijzel</td>\n",
       "      <td>6.0</td>\n",
       "      <td>4.0</td>\n",
       "      <td>10.0</td>\n",
       "      <td>...</td>\n",
       "      <td>NaN</td>\n",
       "      <td>NaN</td>\n",
       "      <td>NaN</td>\n",
       "      <td>NaN</td>\n",
       "      <td>NaN</td>\n",
       "      <td>NaN</td>\n",
       "      <td>NaN</td>\n",
       "      <td>NaN</td>\n",
       "      <td>NaN</td>\n",
       "      <td>NaN</td>\n",
       "    </tr>\n",
       "  </tbody>\n",
       "</table>\n",
       "<p>672 rows × 741 columns</p>\n",
       "</div>"
      ],
      "text/plain": [
       "     Subjectnr Geslacht  Leeftijd_poli1  Polidatum1  Polijaar_1  \\\n",
       "2          1.0      man            65.0  2009-08-31      2009.0   \n",
       "3          2.0      man            61.0  2009-08-31      2009.0   \n",
       "4          3.0      man            56.0  2009-08-31      2009.0   \n",
       "5          4.0    vrouw            51.0  2009-08-31      2009.0   \n",
       "6          5.0    vrouw            60.0  2009-08-31      2009.0   \n",
       "..         ...      ...             ...         ...         ...   \n",
       "669      732.0    vrouw            74.0  2019-05-22      2019.0   \n",
       "670      733.0    vrouw            28.0  2019-04-26      2019.0   \n",
       "671      734.0      man            65.0  2019-05-08      2019.0   \n",
       "672      736.0      man            77.0  2019-05-22      2019.0   \n",
       "673      737.0      man            69.0  2019-05-22      2019.0   \n",
       "\n",
       "        Polibezoek        Arts  Freq_arts  Freq_vp  Freq_tot  ...  SumOfvite  \\\n",
       "2    Eerste bezoek       Schot        4.0      0.0       4.0  ...  13.267616   \n",
       "3    Eerste bezoek       Oving        1.0      4.0       5.0  ...  10.662237   \n",
       "4    Eerste bezoek     Veneman        0.0      0.0       0.0  ...  29.996976   \n",
       "5    Eerste bezoek    Ouwehand        1.0      4.0       5.0  ...   4.281328   \n",
       "6    Eerste bezoek  van Zanten        1.0      4.0       5.0  ...  16.653028   \n",
       "..             ...         ...        ...      ...       ...  ...        ...   \n",
       "669  Eerste bezoek  van berkum        3.0      1.0       4.0  ...        NaN   \n",
       "670  Eerste bezoek      Visser        7.0     24.0      31.0  ...        NaN   \n",
       "671  Eerste bezoek    de Vries        5.0      8.0      13.0  ...        NaN   \n",
       "672  Eerste bezoek    Laverman        4.0      2.0       6.0  ...        NaN   \n",
       "673  Eerste bezoek      Gijzel        6.0      4.0      10.0  ...        NaN   \n",
       "\n",
       "        SumOfrae   SumOffole  SumOfzink  SumOfdpa  SumOfarachidonz  \\\n",
       "2     602.510257  173.289978   9.203426  0.000000         0.034463   \n",
       "3     645.575531  133.897548   7.454809  0.000010         0.047574   \n",
       "4    1207.776682  209.312323  13.193616  0.000494         0.031634   \n",
       "5     218.128055   90.296190   5.820861  0.000057         0.039529   \n",
       "6    1482.346823  207.709797  10.275772  0.000243         0.079542   \n",
       "..           ...         ...        ...       ...              ...   \n",
       "669          NaN         NaN        NaN       NaN              NaN   \n",
       "670          NaN         NaN        NaN       NaN              NaN   \n",
       "671          NaN         NaN        NaN       NaN              NaN   \n",
       "672          NaN         NaN        NaN       NaN              NaN   \n",
       "673          NaN         NaN        NaN       NaN              NaN   \n",
       "\n",
       "     SumOffolaat  SumOfnico   SumOfwater SumOfnatrium  \n",
       "2     173.289978  16.178387  1591.211480  2607.443336  \n",
       "3     133.897548  16.796363  2216.603139  1891.477166  \n",
       "4     205.339877  22.143815  2758.233627  3351.952037  \n",
       "5      90.296190   5.644264   673.484131  1646.457431  \n",
       "6     207.709797  18.294950  2028.428955  2972.889884  \n",
       "..           ...        ...          ...          ...  \n",
       "669          NaN        NaN          NaN          NaN  \n",
       "670          NaN        NaN          NaN          NaN  \n",
       "671          NaN        NaN          NaN          NaN  \n",
       "672          NaN        NaN          NaN          NaN  \n",
       "673          NaN        NaN          NaN          NaN  \n",
       "\n",
       "[672 rows x 741 columns]"
      ]
     },
     "execution_count": 31,
     "metadata": {},
     "output_type": "execute_result"
    }
   ],
   "source": [
    "df_spss"
   ]
  },
  {
   "cell_type": "code",
   "execution_count": 87,
   "metadata": {},
   "outputs": [],
   "source": [
    "def read_recursively(path: str) -> list:\n",
    "    \"\"\"Read the data for each one of the folder \"\"\"\n",
    "    paths = list(Path(path).iterdir())\n",
    "    paths.sort()\n",
    "    return {k: df for k, df in [process_folder(p) for p in paths]}\n",
    "\n",
    "\n",
    "def process_folder(dir: Path) -> list:\n",
    "    \"\"\"Read the files from each folder\"\"\"\n",
    "    path_name = dir / f\"{dir.name}-steps.xlsx\"\n",
    "    if path_name.exists():\n",
    "        df = pd.read_excel(path_name)\n",
    "    else:\n",
    "        df = None\n",
    "    return dir.name, df"
   ]
  },
  {
   "cell_type": "code",
   "execution_count": 8,
   "metadata": {},
   "outputs": [
    {
     "data": {
      "text/plain": [
       "dict_keys(['1001', '1002', '353', '364', '369', '371', '380', '458', '466', '470', '471', '473', '476', '477', '479', '480', '482', '483', '485', '486', '487', '488', '489', '490', '491', '497', '504', '505', '506', '507', '508', '509', '510', '511', '512', '513', '514', '515', '516', '517', '519', '520', '521', '522', '523', '524', '525', '527', '529', '530', '531', '532', '536', '537', '538', '540', '541', '542', '544', '545', '546', '547', '548', '549', '550', '551', '552', '553', '554', '555', '556', '557', '558', '559', '560', '561', '562', '563', '564', '565', '566', '567', '568', '569', '570', '571', '572', '573', '574', '575', '576', '577', '578', '579', '580', '581', '582', '583', '586', '587', '588', '589', '590', '591', '592', '593', '594', '595', '596', '597', '598', '599', '600', '601', '602', '603', '604', '605', '606', '607', '608', '609', '610', '611', '612', '613', '614', '615', '616', '617', '618', '619', '620', '621', '622', '623', '624', '625', '626', '627', '628', '629', '630', '631', '632', '633', '634', '635', '636', '637', '638', '639', '640', '641', '642', '643', '644', '645', '646', '647', '648', '649', '650', '651', '652', '653', '654', '656', '657', '658', '659', '660', '661', '662', '663', '664', '665', '666', '667', '668', '669', '670', '671', '672', '673', '674', '675', '676', '677', '678', '679', '680', '681', '682', '683', '684', '685', '686', '687', '688', '689', '690', '691', '692', '693', '694', '695', '696', '697', '698', '699', '700', '701', '702', '703', '704', '705', '706', '707', '708', '709', '710', '711', '712', '713', '714', '715', '716', '717', '718', '719', '720', '721', '722', '723', '724', '725', '726', '727', '729', '730', '731', '732', '733', '734', '736', '737', '739', '740', '825', '911', '918', '920', '924', '925', '926'])"
      ]
     },
     "execution_count": 8,
     "metadata": {},
     "output_type": "execute_result"
    }
   ],
   "source": [
    "time_series = read_recursively(\"..\\data\\Diabetes ZGT data\")\n",
    "time_series.keys()"
   ]
  },
  {
   "cell_type": "code",
   "execution_count": 9,
   "metadata": {},
   "outputs": [
    {
     "data": {
      "text/plain": [
       "Index(['time', '2017-01-13', '2017-01-14', '2017-01-15', '2017-01-16',\n",
       "       '2017-01-17', '2017-01-18', '2017-01-19', '2017-01-20'],\n",
       "      dtype='object')"
      ]
     },
     "execution_count": 9,
     "metadata": {},
     "output_type": "execute_result"
    }
   ],
   "source": [
    "df_353 = time_series['353']\n",
    "df_353\n",
    "df_353.columns"
   ]
  },
  {
   "cell_type": "markdown",
   "metadata": {},
   "source": [
    "# Features\n",
    "\n",
    "* [x] Geslacht\n",
    "* [x] Leeftijd_poli1\n",
    "* [X] Freq_tot\n",
    "* [X] DMduur = polijaar_1 – Dmaanvang\n",
    "* [X] Pack_years\n",
    "* [X] Alcoholgebruik1EHpermaand\n",
    "* [ ] Lengte_poli1\n",
    "* [ ] Gewicht_poli1\n",
    "* [ ] Buikomvang_1\n",
    "* [ ] Heupomvang_1\n",
    "* [ ] SBP_poli1\n",
    "* [ ] DBP_poli1\n",
    "* [ ] Pols\n",
    "* [ ] MAP_poli1\n",
    "* [ ] Microvas_total (INPUT OR OUTPUT)\n",
    "* [ ] Macrovasculaire_ziekten (INPUT OR OUTPUT)\n",
    "* [ ] SerumHbA1c_1 (INPUT OR OUTPUT)\n",
    "* [ ] Serum_cholesterol_1\n",
    "* [ ] Total_number_drugs\n",
    "* [ ] Insulin_bin\n",
    "* [ ] EH_insuline\n",
    "\n",
    "# Clean the dataframes\n",
    "\n",
    "## 3.1 Geslacht"
   ]
  },
  {
   "cell_type": "code",
   "execution_count": 34,
   "metadata": {},
   "outputs": [
    {
     "data": {
      "text/html": [
       "<div>\n",
       "<style scoped>\n",
       "    .dataframe tbody tr th:only-of-type {\n",
       "        vertical-align: middle;\n",
       "    }\n",
       "\n",
       "    .dataframe tbody tr th {\n",
       "        vertical-align: top;\n",
       "    }\n",
       "\n",
       "    .dataframe thead th {\n",
       "        text-align: right;\n",
       "    }\n",
       "</style>\n",
       "<table border=\"1\" class=\"dataframe\">\n",
       "  <thead>\n",
       "    <tr style=\"text-align: right;\">\n",
       "      <th></th>\n",
       "      <th>Geslacht</th>\n",
       "    </tr>\n",
       "  </thead>\n",
       "  <tbody>\n",
       "    <tr>\n",
       "      <td>2</td>\n",
       "      <td>0.0</td>\n",
       "    </tr>\n",
       "    <tr>\n",
       "      <td>3</td>\n",
       "      <td>0.0</td>\n",
       "    </tr>\n",
       "    <tr>\n",
       "      <td>4</td>\n",
       "      <td>0.0</td>\n",
       "    </tr>\n",
       "    <tr>\n",
       "      <td>5</td>\n",
       "      <td>1.0</td>\n",
       "    </tr>\n",
       "    <tr>\n",
       "      <td>6</td>\n",
       "      <td>1.0</td>\n",
       "    </tr>\n",
       "    <tr>\n",
       "      <td>...</td>\n",
       "      <td>...</td>\n",
       "    </tr>\n",
       "    <tr>\n",
       "      <td>669</td>\n",
       "      <td>1.0</td>\n",
       "    </tr>\n",
       "    <tr>\n",
       "      <td>670</td>\n",
       "      <td>1.0</td>\n",
       "    </tr>\n",
       "    <tr>\n",
       "      <td>671</td>\n",
       "      <td>0.0</td>\n",
       "    </tr>\n",
       "    <tr>\n",
       "      <td>672</td>\n",
       "      <td>0.0</td>\n",
       "    </tr>\n",
       "    <tr>\n",
       "      <td>673</td>\n",
       "      <td>0.0</td>\n",
       "    </tr>\n",
       "  </tbody>\n",
       "</table>\n",
       "<p>672 rows × 1 columns</p>\n",
       "</div>"
      ],
      "text/plain": [
       "    Geslacht\n",
       "2        0.0\n",
       "3        0.0\n",
       "4        0.0\n",
       "5        1.0\n",
       "6        1.0\n",
       "..       ...\n",
       "669      1.0\n",
       "670      1.0\n",
       "671      0.0\n",
       "672      0.0\n",
       "673      0.0\n",
       "\n",
       "[672 rows x 1 columns]"
      ]
     },
     "execution_count": 34,
     "metadata": {},
     "output_type": "execute_result"
    }
   ],
   "source": [
    "df_ml = pd.DataFrame()\n",
    "df_ml[\"Geslacht\"] = df_spss[\"Geslacht\"].apply(lambda x: 0.0 if x == \"man\" else 1.0)\n",
    "df_ml"
   ]
  },
  {
   "cell_type": "markdown",
   "metadata": {},
   "source": [
    "## 3.2 Leeftijd_poli1"
   ]
  },
  {
   "cell_type": "code",
   "execution_count": 39,
   "metadata": {},
   "outputs": [
    {
     "data": {
      "text/plain": [
       "False"
      ]
     },
     "execution_count": 39,
     "metadata": {},
     "output_type": "execute_result"
    }
   ],
   "source": [
    "df_spss[\"Leeftijd_poli1\"].isna().any()"
   ]
  },
  {
   "cell_type": "code",
   "execution_count": 40,
   "metadata": {},
   "outputs": [
    {
     "data": {
      "text/html": [
       "<div>\n",
       "<style scoped>\n",
       "    .dataframe tbody tr th:only-of-type {\n",
       "        vertical-align: middle;\n",
       "    }\n",
       "\n",
       "    .dataframe tbody tr th {\n",
       "        vertical-align: top;\n",
       "    }\n",
       "\n",
       "    .dataframe thead th {\n",
       "        text-align: right;\n",
       "    }\n",
       "</style>\n",
       "<table border=\"1\" class=\"dataframe\">\n",
       "  <thead>\n",
       "    <tr style=\"text-align: right;\">\n",
       "      <th></th>\n",
       "      <th>Geslacht</th>\n",
       "      <th>Leeftijd_poli1</th>\n",
       "    </tr>\n",
       "  </thead>\n",
       "  <tbody>\n",
       "    <tr>\n",
       "      <td>2</td>\n",
       "      <td>0.0</td>\n",
       "      <td>65.0</td>\n",
       "    </tr>\n",
       "    <tr>\n",
       "      <td>3</td>\n",
       "      <td>0.0</td>\n",
       "      <td>61.0</td>\n",
       "    </tr>\n",
       "    <tr>\n",
       "      <td>4</td>\n",
       "      <td>0.0</td>\n",
       "      <td>56.0</td>\n",
       "    </tr>\n",
       "    <tr>\n",
       "      <td>5</td>\n",
       "      <td>1.0</td>\n",
       "      <td>51.0</td>\n",
       "    </tr>\n",
       "    <tr>\n",
       "      <td>6</td>\n",
       "      <td>1.0</td>\n",
       "      <td>60.0</td>\n",
       "    </tr>\n",
       "    <tr>\n",
       "      <td>...</td>\n",
       "      <td>...</td>\n",
       "      <td>...</td>\n",
       "    </tr>\n",
       "    <tr>\n",
       "      <td>669</td>\n",
       "      <td>1.0</td>\n",
       "      <td>74.0</td>\n",
       "    </tr>\n",
       "    <tr>\n",
       "      <td>670</td>\n",
       "      <td>1.0</td>\n",
       "      <td>28.0</td>\n",
       "    </tr>\n",
       "    <tr>\n",
       "      <td>671</td>\n",
       "      <td>0.0</td>\n",
       "      <td>65.0</td>\n",
       "    </tr>\n",
       "    <tr>\n",
       "      <td>672</td>\n",
       "      <td>0.0</td>\n",
       "      <td>77.0</td>\n",
       "    </tr>\n",
       "    <tr>\n",
       "      <td>673</td>\n",
       "      <td>0.0</td>\n",
       "      <td>69.0</td>\n",
       "    </tr>\n",
       "  </tbody>\n",
       "</table>\n",
       "<p>672 rows × 2 columns</p>\n",
       "</div>"
      ],
      "text/plain": [
       "    Geslacht  Leeftijd_poli1\n",
       "2        0.0            65.0\n",
       "3        0.0            61.0\n",
       "4        0.0            56.0\n",
       "5        1.0            51.0\n",
       "6        1.0            60.0\n",
       "..       ...             ...\n",
       "669      1.0            74.0\n",
       "670      1.0            28.0\n",
       "671      0.0            65.0\n",
       "672      0.0            77.0\n",
       "673      0.0            69.0\n",
       "\n",
       "[672 rows x 2 columns]"
      ]
     },
     "execution_count": 40,
     "metadata": {},
     "output_type": "execute_result"
    }
   ],
   "source": [
    "df_ml[\"Leeftijd_poli1\"] = df_spss[\"Leeftijd_poli1\"]\n",
    "df_ml"
   ]
  },
  {
   "cell_type": "markdown",
   "metadata": {},
   "source": [
    "## 3.3 Freq_tot"
   ]
  },
  {
   "cell_type": "code",
   "execution_count": 58,
   "metadata": {},
   "outputs": [
    {
     "data": {
      "text/plain": [
       "True"
      ]
     },
     "execution_count": 58,
     "metadata": {},
     "output_type": "execute_result"
    }
   ],
   "source": [
    "df_spss[\"Freq_tot\"].isna().any()"
   ]
  },
  {
   "cell_type": "code",
   "execution_count": 59,
   "metadata": {},
   "outputs": [
    {
     "data": {
      "text/plain": [
       "171   NaN\n",
       "501   NaN\n",
       "Name: Freq_tot, dtype: float64"
      ]
     },
     "execution_count": 59,
     "metadata": {},
     "output_type": "execute_result"
    }
   ],
   "source": [
    "freq_tot = df_spss[\"Freq_tot\"]\n",
    "freq_tot[freq_tot.isna()]"
   ]
  },
  {
   "cell_type": "code",
   "execution_count": 61,
   "metadata": {},
   "outputs": [
    {
     "data": {
      "text/plain": [
       "5.325373134328358"
      ]
     },
     "execution_count": 61,
     "metadata": {},
     "output_type": "execute_result"
    }
   ],
   "source": [
    "# Berekening van de gemiddelde waarde van freq_tot om deze op de NaN posities in te vullen\n",
    "mean_value = freq_tot[~freq_tot.isna()].mean()\n",
    "mean_value"
   ]
  },
  {
   "cell_type": "code",
   "execution_count": 74,
   "metadata": {},
   "outputs": [
    {
     "name": "stderr",
     "output_type": "stream",
     "text": [
      "C:\\Users\\dHollosyW\\AppData\\Local\\Continuum\\anaconda3\\lib\\site-packages\\ipykernel_launcher.py:2: SettingWithCopyWarning: \n",
      "A value is trying to be set on a copy of a slice from a DataFrame\n",
      "\n",
      "See the caveats in the documentation: http://pandas.pydata.org/pandas-docs/stable/user_guide/indexing.html#returning-a-view-versus-a-copy\n",
      "  \n"
     ]
    }
   ],
   "source": [
    "df_ml[\"Freq_tot\"] = df_spss[\"Freq_tot\"].copy()\n",
    "df_ml[\"Freq_tot\"][freq_tot.isna()] = mean_value"
   ]
  },
  {
   "cell_type": "code",
   "execution_count": 66,
   "metadata": {},
   "outputs": [
    {
     "data": {
      "text/plain": [
       "False"
      ]
     },
     "execution_count": 66,
     "metadata": {},
     "output_type": "execute_result"
    }
   ],
   "source": [
    "df_ml[\"Freq_tot\"].isna().any()"
   ]
  },
  {
   "cell_type": "markdown",
   "metadata": {},
   "source": [
    "## 3.4 DMduur = Polijaar_1 – DMaanvang"
   ]
  },
  {
   "cell_type": "code",
   "execution_count": 77,
   "metadata": {},
   "outputs": [
    {
     "data": {
      "text/plain": [
       "False"
      ]
     },
     "execution_count": 77,
     "metadata": {},
     "output_type": "execute_result"
    }
   ],
   "source": [
    "df_spss[\"Polijaar_1\"].isna().any()"
   ]
  },
  {
   "cell_type": "code",
   "execution_count": 78,
   "metadata": {},
   "outputs": [
    {
     "data": {
      "text/plain": [
       "False"
      ]
     },
     "execution_count": 78,
     "metadata": {},
     "output_type": "execute_result"
    }
   ],
   "source": [
    "df_spss[\"DMaanvang\"].isna().any()"
   ]
  },
  {
   "cell_type": "code",
   "execution_count": 79,
   "metadata": {},
   "outputs": [],
   "source": [
    "df_ml[\"DMduur\"]=df_spss[\"Polijaar_1\"]-df_spss[\"DMaanvang\"]"
   ]
  },
  {
   "cell_type": "code",
   "execution_count": 80,
   "metadata": {},
   "outputs": [
    {
     "data": {
      "text/html": [
       "<div>\n",
       "<style scoped>\n",
       "    .dataframe tbody tr th:only-of-type {\n",
       "        vertical-align: middle;\n",
       "    }\n",
       "\n",
       "    .dataframe tbody tr th {\n",
       "        vertical-align: top;\n",
       "    }\n",
       "\n",
       "    .dataframe thead th {\n",
       "        text-align: right;\n",
       "    }\n",
       "</style>\n",
       "<table border=\"1\" class=\"dataframe\">\n",
       "  <thead>\n",
       "    <tr style=\"text-align: right;\">\n",
       "      <th></th>\n",
       "      <th>Geslacht</th>\n",
       "      <th>Leeftijd_poli1</th>\n",
       "      <th>Freq_tot</th>\n",
       "      <th>DMduur</th>\n",
       "    </tr>\n",
       "  </thead>\n",
       "  <tbody>\n",
       "    <tr>\n",
       "      <td>2</td>\n",
       "      <td>0.0</td>\n",
       "      <td>65.0</td>\n",
       "      <td>4.0</td>\n",
       "      <td>9.0</td>\n",
       "    </tr>\n",
       "    <tr>\n",
       "      <td>3</td>\n",
       "      <td>0.0</td>\n",
       "      <td>61.0</td>\n",
       "      <td>5.0</td>\n",
       "      <td>24.0</td>\n",
       "    </tr>\n",
       "    <tr>\n",
       "      <td>4</td>\n",
       "      <td>0.0</td>\n",
       "      <td>56.0</td>\n",
       "      <td>0.0</td>\n",
       "      <td>14.0</td>\n",
       "    </tr>\n",
       "    <tr>\n",
       "      <td>5</td>\n",
       "      <td>1.0</td>\n",
       "      <td>51.0</td>\n",
       "      <td>5.0</td>\n",
       "      <td>3.0</td>\n",
       "    </tr>\n",
       "    <tr>\n",
       "      <td>6</td>\n",
       "      <td>1.0</td>\n",
       "      <td>60.0</td>\n",
       "      <td>5.0</td>\n",
       "      <td>13.0</td>\n",
       "    </tr>\n",
       "    <tr>\n",
       "      <td>...</td>\n",
       "      <td>...</td>\n",
       "      <td>...</td>\n",
       "      <td>...</td>\n",
       "      <td>...</td>\n",
       "    </tr>\n",
       "    <tr>\n",
       "      <td>669</td>\n",
       "      <td>1.0</td>\n",
       "      <td>74.0</td>\n",
       "      <td>4.0</td>\n",
       "      <td>39.0</td>\n",
       "    </tr>\n",
       "    <tr>\n",
       "      <td>670</td>\n",
       "      <td>1.0</td>\n",
       "      <td>28.0</td>\n",
       "      <td>31.0</td>\n",
       "      <td>5.0</td>\n",
       "    </tr>\n",
       "    <tr>\n",
       "      <td>671</td>\n",
       "      <td>0.0</td>\n",
       "      <td>65.0</td>\n",
       "      <td>13.0</td>\n",
       "      <td>28.0</td>\n",
       "    </tr>\n",
       "    <tr>\n",
       "      <td>672</td>\n",
       "      <td>0.0</td>\n",
       "      <td>77.0</td>\n",
       "      <td>6.0</td>\n",
       "      <td>37.0</td>\n",
       "    </tr>\n",
       "    <tr>\n",
       "      <td>673</td>\n",
       "      <td>0.0</td>\n",
       "      <td>69.0</td>\n",
       "      <td>10.0</td>\n",
       "      <td>19.0</td>\n",
       "    </tr>\n",
       "  </tbody>\n",
       "</table>\n",
       "<p>672 rows × 4 columns</p>\n",
       "</div>"
      ],
      "text/plain": [
       "    Geslacht  Leeftijd_poli1  Freq_tot  DMduur\n",
       "2        0.0            65.0       4.0     9.0\n",
       "3        0.0            61.0       5.0    24.0\n",
       "4        0.0            56.0       0.0    14.0\n",
       "5        1.0            51.0       5.0     3.0\n",
       "6        1.0            60.0       5.0    13.0\n",
       "..       ...             ...       ...     ...\n",
       "669      1.0            74.0       4.0    39.0\n",
       "670      1.0            28.0      31.0     5.0\n",
       "671      0.0            65.0      13.0    28.0\n",
       "672      0.0            77.0       6.0    37.0\n",
       "673      0.0            69.0      10.0    19.0\n",
       "\n",
       "[672 rows x 4 columns]"
      ]
     },
     "execution_count": 80,
     "metadata": {},
     "output_type": "execute_result"
    }
   ],
   "source": [
    "df_ml"
   ]
  },
  {
   "cell_type": "markdown",
   "metadata": {},
   "source": [
    "## 3.5 Pack_years"
   ]
  },
  {
   "cell_type": "code",
   "execution_count": 81,
   "metadata": {},
   "outputs": [
    {
     "data": {
      "text/plain": [
       "True"
      ]
     },
     "execution_count": 81,
     "metadata": {},
     "output_type": "execute_result"
    }
   ],
   "source": [
    "df_spss[\"Pack_years\"].isna().any()"
   ]
  },
  {
   "cell_type": "code",
   "execution_count": 88,
   "metadata": {},
   "outputs": [
    {
     "data": {
      "text/plain": [
       "43"
      ]
     },
     "execution_count": 88,
     "metadata": {},
     "output_type": "execute_result"
    }
   ],
   "source": [
    "df_spss[\"Pack_years\"].isna().sum() # number of nan in the column"
   ]
  },
  {
   "cell_type": "code",
   "execution_count": 89,
   "metadata": {},
   "outputs": [],
   "source": [
    "df_ml[\"Pack_years\"] = df_spss[\"Pack_years\"].fillna(df_spss['Pack_years'].mean())"
   ]
  },
  {
   "cell_type": "code",
   "execution_count": 86,
   "metadata": {},
   "outputs": [
    {
     "data": {
      "text/plain": [
       "2      109.0\n",
       "3       63.0\n",
       "4       42.0\n",
       "5       77.0\n",
       "6        1.0\n",
       "       ...  \n",
       "669      4.0\n",
       "670      0.0\n",
       "671     12.0\n",
       "672      0.0\n",
       "673     12.0\n",
       "Name: Pack_years, Length: 672, dtype: float64"
      ]
     },
     "execution_count": 86,
     "metadata": {},
     "output_type": "execute_result"
    }
   ],
   "source": [
    "df_spss[\"Pack_years\"]"
   ]
  },
  {
   "cell_type": "markdown",
   "metadata": {},
   "source": [
    "## 3.6 Alcoholgebruik1EHpermaand"
   ]
  },
  {
   "cell_type": "code",
   "execution_count": 90,
   "metadata": {},
   "outputs": [
    {
     "data": {
      "text/plain": [
       "30"
      ]
     },
     "execution_count": 90,
     "metadata": {},
     "output_type": "execute_result"
    }
   ],
   "source": [
    "df_spss[\"Alcoholgebruik1EHpermaand\"].isna().sum()"
   ]
  },
  {
   "cell_type": "markdown",
   "metadata": {},
   "source": [
    "## 3.7 Gewicht_poli1\n"
   ]
  },
  {
   "cell_type": "code",
   "execution_count": 94,
   "metadata": {},
   "outputs": [
    {
     "data": {
      "text/plain": [
       "2"
      ]
     },
     "execution_count": 94,
     "metadata": {},
     "output_type": "execute_result"
    }
   ],
   "source": [
    "df_spss[\"Gewicht_poli1\"].isna().sum()"
   ]
  },
  {
   "cell_type": "markdown",
   "metadata": {},
   "source": [
    "## 3.8 Buikomvang_1"
   ]
  },
  {
   "cell_type": "code",
   "execution_count": 95,
   "metadata": {},
   "outputs": [
    {
     "data": {
      "text/plain": [
       "8"
      ]
     },
     "execution_count": 95,
     "metadata": {},
     "output_type": "execute_result"
    }
   ],
   "source": [
    "df_spss[\"Buikomvang_1\"].isna().sum()"
   ]
  },
  {
   "cell_type": "markdown",
   "metadata": {},
   "source": [
    "## 3.9 Heupomvang_1\n"
   ]
  },
  {
   "cell_type": "code",
   "execution_count": 97,
   "metadata": {},
   "outputs": [
    {
     "data": {
      "text/plain": [
       "8"
      ]
     },
     "execution_count": 97,
     "metadata": {},
     "output_type": "execute_result"
    }
   ],
   "source": [
    "df_spss[\"Heupomvang_1\"].isna().sum()"
   ]
  },
  {
   "cell_type": "markdown",
   "metadata": {},
   "source": [
    "## 3.10 SBP\n"
   ]
  },
  {
   "cell_type": "code",
   "execution_count": 98,
   "metadata": {},
   "outputs": [
    {
     "data": {
      "text/plain": [
       "233"
      ]
     },
     "execution_count": 98,
     "metadata": {},
     "output_type": "execute_result"
    }
   ],
   "source": [
    "df_spss[\"SBP_poli1\"].isna().sum()"
   ]
  },
  {
   "cell_type": "code",
   "execution_count": 116,
   "metadata": {},
   "outputs": [
    {
     "data": {
      "text/plain": [
       "112"
      ]
     },
     "execution_count": 116,
     "metadata": {},
     "output_type": "execute_result"
    }
   ],
   "source": [
    "df_ml[\"SBP\"] = df_spss[['SBP1', 'SBP2', 'SBP3']].mean(axis=1)\n",
    "df_ml[\"SBP\"].isna().sum()\n"
   ]
  },
  {
   "cell_type": "code",
   "execution_count": 117,
   "metadata": {},
   "outputs": [
    {
     "data": {
      "text/plain": [
       "133.24583333333322"
      ]
     },
     "execution_count": 117,
     "metadata": {},
     "output_type": "execute_result"
    }
   ],
   "source": [
    "df_ml[\"SBP\"].mean()"
   ]
  },
  {
   "cell_type": "code",
   "execution_count": 139,
   "metadata": {},
   "outputs": [
    {
     "data": {
      "text/plain": [
       "133.24583333333322"
      ]
     },
     "execution_count": 139,
     "metadata": {},
     "output_type": "execute_result"
    }
   ],
   "source": [
    "mean_value = df_ml[\"SBP\"][~df_ml[\"SBP\"].isna()].mean()\n",
    "mean_value"
   ]
  },
  {
   "cell_type": "code",
   "execution_count": 132,
   "metadata": {},
   "outputs": [
    {
     "data": {
      "text/plain": [
       "<matplotlib.axes._subplots.AxesSubplot at 0x2852e0d5a20>"
      ]
     },
     "execution_count": 132,
     "metadata": {},
     "output_type": "execute_result"
    },
    {
     "data": {
      "image/png": "[encoded data removed]",
      "text/plain": [
       "<Figure size 432x288 with 1 Axes>"
      ]
     },
     "metadata": {},
     "output_type": "display_data"
    }
   ],
   "source": [
    "sns.set(color_codes=True)\n",
    "sns.distplot(df_ml[\"SBP\"][-df_ml[\"SBP\"].isna()])"
   ]
  },
  {
   "cell_type": "code",
   "execution_count": 140,
   "metadata": {},
   "outputs": [
    {
     "name": "stderr",
     "output_type": "stream",
     "text": [
      "C:\\Users\\dHollosyW\\AppData\\Local\\Continuum\\anaconda3\\lib\\site-packages\\ipykernel_launcher.py:2: SettingWithCopyWarning: \n",
      "A value is trying to be set on a copy of a slice from a DataFrame\n",
      "\n",
      "See the caveats in the documentation: http://pandas.pydata.org/pandas-docs/stable/user_guide/indexing.html#returning-a-view-versus-a-copy\n",
      "  \n"
     ]
    }
   ],
   "source": [
    "mean_value = df_ml[\"SBP\"][~df_ml[\"SBP\"].isna()].mean()\n",
    "df_ml[\"SBP\"][df_ml[\"SBP\"].isna()] = mean_value"
   ]
  },
  {
   "cell_type": "code",
   "execution_count": 141,
   "metadata": {},
   "outputs": [
    {
     "data": {
      "text/plain": [
       "0"
      ]
     },
     "execution_count": 141,
     "metadata": {},
     "output_type": "execute_result"
    }
   ],
   "source": [
    "df_ml[\"SBP\"].isna().sum()"
   ]
  },
  {
   "cell_type": "code",
   "execution_count": 148,
   "metadata": {},
   "outputs": [
    {
     "data": {
      "text/plain": [
       "<matplotlib.axes._subplots.AxesSubplot at 0x2852e66c390>"
      ]
     },
     "execution_count": 148,
     "metadata": {},
     "output_type": "execute_result"
    },
    {
     "data": {
      "image/png": "[encoded data removed]",
      "text/plain": [
       "<Figure size 432x288 with 1 Axes>"
      ]
     },
     "metadata": {},
     "output_type": "display_data"
    }
   ],
   "source": [
    "sns.distplot(df_ml[\"SBP\"])"
   ]
  },
  {
   "cell_type": "markdown",
   "metadata": {},
   "source": [
    "## 3.11 DBP"
   ]
  },
  {
   "cell_type": "code",
   "execution_count": 99,
   "metadata": {},
   "outputs": [
    {
     "data": {
      "text/plain": [
       "233"
      ]
     },
     "execution_count": 99,
     "metadata": {},
     "output_type": "execute_result"
    }
   ],
   "source": [
    "df_spss[\"DBP_poli1\"].isna().sum()"
   ]
  },
  {
   "cell_type": "code",
   "execution_count": 118,
   "metadata": {},
   "outputs": [
    {
     "data": {
      "text/plain": [
       "111"
      ]
     },
     "execution_count": 118,
     "metadata": {},
     "output_type": "execute_result"
    }
   ],
   "source": [
    "df_ml[\"DBP\"] = df_spss[['DBP1', 'DBP2', 'DBP3']].mean(axis=1)\n",
    "df_ml[\"DBP\"].isna().sum()\n"
   ]
  },
  {
   "cell_type": "code",
   "execution_count": 119,
   "metadata": {},
   "outputs": [
    {
     "data": {
      "text/plain": [
       "73.89126559714789"
      ]
     },
     "execution_count": 119,
     "metadata": {},
     "output_type": "execute_result"
    }
   ],
   "source": [
    "df_ml[\"DBP\"].mean()"
   ]
  },
  {
   "cell_type": "code",
   "execution_count": 143,
   "metadata": {},
   "outputs": [
    {
     "data": {
      "text/plain": [
       "73.89126559714789"
      ]
     },
     "execution_count": 143,
     "metadata": {},
     "output_type": "execute_result"
    }
   ],
   "source": [
    "mean_value = df_ml[\"DBP\"][~df_ml[\"DBP\"].isna()].mean()\n",
    "mean_value"
   ]
  },
  {
   "cell_type": "code",
   "execution_count": 133,
   "metadata": {},
   "outputs": [
    {
     "data": {
      "text/plain": [
       "<matplotlib.axes._subplots.AxesSubplot at 0x2852e5ae940>"
      ]
     },
     "execution_count": 133,
     "metadata": {},
     "output_type": "execute_result"
    },
    {
     "data": {
      "image/png": "[encoded data removed]",
      "text/plain": [
       "<Figure size 432x288 with 1 Axes>"
      ]
     },
     "metadata": {},
     "output_type": "display_data"
    }
   ],
   "source": [
    "sns.distplot(df_ml[\"DBP\"][-df_ml[\"DBP\"].isna()])"
   ]
  },
  {
   "cell_type": "code",
   "execution_count": 144,
   "metadata": {},
   "outputs": [
    {
     "name": "stderr",
     "output_type": "stream",
     "text": [
      "C:\\Users\\dHollosyW\\AppData\\Local\\Continuum\\anaconda3\\lib\\site-packages\\ipykernel_launcher.py:3: SettingWithCopyWarning: \n",
      "A value is trying to be set on a copy of a slice from a DataFrame\n",
      "\n",
      "See the caveats in the documentation: http://pandas.pydata.org/pandas-docs/stable/user_guide/indexing.html#returning-a-view-versus-a-copy\n",
      "  This is separate from the ipykernel package so we can avoid doing imports until\n"
     ]
    }
   ],
   "source": [
    "df_ml[\"DBP\"] = df_ml[\"DBP\"].copy()\n",
    "mean_value = df_ml[\"DBP\"][~df_ml[\"DBP\"].isna()].mean()\n",
    "df_ml[\"DBP\"][df_ml[\"DBP\"].isna()] = mean_value"
   ]
  },
  {
   "cell_type": "code",
   "execution_count": 145,
   "metadata": {},
   "outputs": [
    {
     "data": {
      "text/plain": [
       "0"
      ]
     },
     "execution_count": 145,
     "metadata": {},
     "output_type": "execute_result"
    }
   ],
   "source": [
    "df_ml[\"DBP\"].isna().sum()"
   ]
  },
  {
   "cell_type": "code",
   "execution_count": 147,
   "metadata": {},
   "outputs": [
    {
     "data": {
      "text/plain": [
       "<matplotlib.axes._subplots.AxesSubplot at 0x2852e659e48>"
      ]
     },
     "execution_count": 147,
     "metadata": {},
     "output_type": "execute_result"
    },
    {
     "data": {
      "image/png": "[encoded data removed]",
      "text/plain": [
       "<Figure size 432x288 with 1 Axes>"
      ]
     },
     "metadata": {},
     "output_type": "display_data"
    }
   ],
   "source": [
    "sns.distplot(df_ml[\"DBP\"])"
   ]
  },
  {
   "cell_type": "markdown",
   "metadata": {},
   "source": [
    "## 3.12 Pols_poli1\n"
   ]
  },
  {
   "cell_type": "code",
   "execution_count": 101,
   "metadata": {},
   "outputs": [
    {
     "data": {
      "text/plain": [
       "11"
      ]
     },
     "execution_count": 101,
     "metadata": {},
     "output_type": "execute_result"
    }
   ],
   "source": [
    "df_spss[\"Pols_poli1\"].isna().sum()"
   ]
  },
  {
   "cell_type": "markdown",
   "metadata": {},
   "source": [
    "## 3.13 MAP_poli1\n"
   ]
  },
  {
   "cell_type": "code",
   "execution_count": 102,
   "metadata": {},
   "outputs": [
    {
     "data": {
      "text/plain": [
       "238"
      ]
     },
     "execution_count": 102,
     "metadata": {},
     "output_type": "execute_result"
    }
   ],
   "source": [
    "df_spss[\"MAP_poli1\"].isna().sum()\n",
    "# Nemen we niet mee ivm DBP en SBP"
   ]
  },
  {
   "cell_type": "markdown",
   "metadata": {},
   "source": [
    "## 3.14 Microvas_total (INPUT OR OUTPUT)\n"
   ]
  },
  {
   "cell_type": "code",
   "execution_count": 103,
   "metadata": {},
   "outputs": [
    {
     "data": {
      "text/plain": [
       "4"
      ]
     },
     "execution_count": 103,
     "metadata": {},
     "output_type": "execute_result"
    }
   ],
   "source": [
    "df_spss[\"Microvas_total\"].isna().sum()"
   ]
  },
  {
   "cell_type": "markdown",
   "metadata": {},
   "source": [
    "## 3.15 Macrovasculaire_ziekten (INPUT OR OUTPUT)\n"
   ]
  },
  {
   "cell_type": "code",
   "execution_count": 104,
   "metadata": {},
   "outputs": [
    {
     "data": {
      "text/plain": [
       "0"
      ]
     },
     "execution_count": 104,
     "metadata": {},
     "output_type": "execute_result"
    }
   ],
   "source": [
    "df_spss[\"Macrovasculaire_ziekten\"].isna().sum()"
   ]
  },
  {
   "cell_type": "markdown",
   "metadata": {},
   "source": [
    "## 3.16 SerumHbA1c_1 (INPUT OR OUTPUT)\n"
   ]
  },
  {
   "cell_type": "code",
   "execution_count": 105,
   "metadata": {},
   "outputs": [
    {
     "data": {
      "text/plain": [
       "2"
      ]
     },
     "execution_count": 105,
     "metadata": {},
     "output_type": "execute_result"
    }
   ],
   "source": [
    "df_spss[\"SerumHbA1c_1\"].isna().sum()"
   ]
  },
  {
   "cell_type": "markdown",
   "metadata": {},
   "source": [
    "## 3.17 Serum_cholesterol_1\n"
   ]
  },
  {
   "cell_type": "code",
   "execution_count": 106,
   "metadata": {},
   "outputs": [
    {
     "data": {
      "text/plain": [
       "3"
      ]
     },
     "execution_count": 106,
     "metadata": {},
     "output_type": "execute_result"
    }
   ],
   "source": [
    "df_spss[\"Serum_cholesterol_1\"].isna().sum()"
   ]
  },
  {
   "cell_type": "markdown",
   "metadata": {},
   "source": [
    "## 3.18 Total_number_drugs\n"
   ]
  },
  {
   "cell_type": "code",
   "execution_count": 107,
   "metadata": {},
   "outputs": [
    {
     "data": {
      "text/plain": [
       "85"
      ]
     },
     "execution_count": 107,
     "metadata": {},
     "output_type": "execute_result"
    }
   ],
   "source": [
    "df_spss[\"Total_number_drugs\"].isna().sum()"
   ]
  },
  {
   "cell_type": "markdown",
   "metadata": {},
   "source": [
    "## 3.19 insulin_bin\n"
   ]
  },
  {
   "cell_type": "code",
   "execution_count": 109,
   "metadata": {},
   "outputs": [
    {
     "data": {
      "text/plain": [
       "164"
      ]
     },
     "execution_count": 109,
     "metadata": {},
     "output_type": "execute_result"
    }
   ],
   "source": [
    "df_spss[\"insulin_bin\"].isna().sum()\n",
    "# Nemen we niet mee, want eenheden zeggen meer dan insuline_bin. Maar beide features zijn wel afhankelijk van elkaar"
   ]
  },
  {
   "cell_type": "markdown",
   "metadata": {},
   "source": [
    "## 3.20 EH_insuline"
   ]
  },
  {
   "cell_type": "code",
   "execution_count": 110,
   "metadata": {},
   "outputs": [
    {
     "data": {
      "text/plain": [
       "638"
      ]
     },
     "execution_count": 110,
     "metadata": {},
     "output_type": "execute_result"
    }
   ],
   "source": [
    "df_spss[\"EH_insuline\"].isna().sum()"
   ]
  },
  {
   "cell_type": "code",
   "execution_count": 136,
   "metadata": {},
   "outputs": [
    {
     "data": {
      "text/plain": [
       "171   NaN\n",
       "501   NaN\n",
       "Name: Freq_tot, dtype: float64"
      ]
     },
     "execution_count": 136,
     "metadata": {},
     "output_type": "execute_result"
    }
   ],
   "source": []
  },
  {
   "cell_type": "code",
   "execution_count": 137,
   "metadata": {},
   "outputs": [
    {
     "data": {
      "text/plain": [
       "5.325373134328358"
      ]
     },
     "execution_count": 137,
     "metadata": {},
     "output_type": "execute_result"
    }
   ],
   "source": []
  },
  {
   "cell_type": "code",
   "execution_count": null,
   "metadata": {},
   "outputs": [],
   "source": []
  }
 ],
 "metadata": {
  "kernelspec": {
   "display_name": "Python 3",
   "language": "python",
   "name": "python3"
  },
  "language_info": {
   "codemirror_mode": {
    "name": "ipython",
    "version": 3
   },
   "file_extension": ".py",
   "mimetype": "text/x-python",
   "name": "python",
   "nbconvert_exporter": "python",
   "pygments_lexer": "ipython3",
   "version": "3.7.6"
  }
 },
 "nbformat": 4,
 "nbformat_minor": 2
}
